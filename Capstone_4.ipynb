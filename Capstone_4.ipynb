{
  "nbformat": 4,
  "nbformat_minor": 0,
  "metadata": {
    "colab": {
      "provenance": [],
      "authorship_tag": "ABX9TyMyyk+8oelGlVB574U41lgK",
      "include_colab_link": true
    },
    "kernelspec": {
      "name": "python3",
      "display_name": "Python 3"
    },
    "language_info": {
      "name": "python"
    },
    "widgets": {
      "application/vnd.jupyter.widget-state+json": {
        "0aeecbb4bd8744a5af18ae01347a7dd2": {
          "model_module": "@jupyter-widgets/controls",
          "model_name": "HBoxModel",
          "model_module_version": "1.5.0",
          "state": {
            "_dom_classes": [],
            "_model_module": "@jupyter-widgets/controls",
            "_model_module_version": "1.5.0",
            "_model_name": "HBoxModel",
            "_view_count": null,
            "_view_module": "@jupyter-widgets/controls",
            "_view_module_version": "1.5.0",
            "_view_name": "HBoxView",
            "box_style": "",
            "children": [
              "IPY_MODEL_f4e0d4230dfc4b9e8f9dae1b921eaaad",
              "IPY_MODEL_388ca2500d5d499198239b006842f287",
              "IPY_MODEL_245fee2b0859456f90b585d9dafd30b7"
            ],
            "layout": "IPY_MODEL_14df7ad5f2344b9781839edd4e81327c"
          }
        },
        "f4e0d4230dfc4b9e8f9dae1b921eaaad": {
          "model_module": "@jupyter-widgets/controls",
          "model_name": "HTMLModel",
          "model_module_version": "1.5.0",
          "state": {
            "_dom_classes": [],
            "_model_module": "@jupyter-widgets/controls",
            "_model_module_version": "1.5.0",
            "_model_name": "HTMLModel",
            "_view_count": null,
            "_view_module": "@jupyter-widgets/controls",
            "_view_module_version": "1.5.0",
            "_view_name": "HTMLView",
            "description": "",
            "description_tooltip": null,
            "layout": "IPY_MODEL_1ab6b42da8124d84b0ba452bf5aac2b9",
            "placeholder": "​",
            "style": "IPY_MODEL_c14b8f43d51f4ecfb3048530d2e8f98a",
            "value": "100%"
          }
        },
        "388ca2500d5d499198239b006842f287": {
          "model_module": "@jupyter-widgets/controls",
          "model_name": "FloatProgressModel",
          "model_module_version": "1.5.0",
          "state": {
            "_dom_classes": [],
            "_model_module": "@jupyter-widgets/controls",
            "_model_module_version": "1.5.0",
            "_model_name": "FloatProgressModel",
            "_view_count": null,
            "_view_module": "@jupyter-widgets/controls",
            "_view_module_version": "1.5.0",
            "_view_name": "ProgressView",
            "bar_style": "success",
            "description": "",
            "description_tooltip": null,
            "layout": "IPY_MODEL_e895472e33024ed09b247660865988b9",
            "max": 12565,
            "min": 0,
            "orientation": "horizontal",
            "style": "IPY_MODEL_9d362d77d2c04042a299f21b47ba1ba4",
            "value": 12565
          }
        },
        "245fee2b0859456f90b585d9dafd30b7": {
          "model_module": "@jupyter-widgets/controls",
          "model_name": "HTMLModel",
          "model_module_version": "1.5.0",
          "state": {
            "_dom_classes": [],
            "_model_module": "@jupyter-widgets/controls",
            "_model_module_version": "1.5.0",
            "_model_name": "HTMLModel",
            "_view_count": null,
            "_view_module": "@jupyter-widgets/controls",
            "_view_module_version": "1.5.0",
            "_view_name": "HTMLView",
            "description": "",
            "description_tooltip": null,
            "layout": "IPY_MODEL_d65b4fe206d04ea68f7aef7e0c88d0a7",
            "placeholder": "​",
            "style": "IPY_MODEL_e32550903d9b47cbb74a348d648bf923",
            "value": " 12565/12565 [00:11&lt;00:00, 1121.90it/s]"
          }
        },
        "14df7ad5f2344b9781839edd4e81327c": {
          "model_module": "@jupyter-widgets/base",
          "model_name": "LayoutModel",
          "model_module_version": "1.2.0",
          "state": {
            "_model_module": "@jupyter-widgets/base",
            "_model_module_version": "1.2.0",
            "_model_name": "LayoutModel",
            "_view_count": null,
            "_view_module": "@jupyter-widgets/base",
            "_view_module_version": "1.2.0",
            "_view_name": "LayoutView",
            "align_content": null,
            "align_items": null,
            "align_self": null,
            "border": null,
            "bottom": null,
            "display": null,
            "flex": null,
            "flex_flow": null,
            "grid_area": null,
            "grid_auto_columns": null,
            "grid_auto_flow": null,
            "grid_auto_rows": null,
            "grid_column": null,
            "grid_gap": null,
            "grid_row": null,
            "grid_template_areas": null,
            "grid_template_columns": null,
            "grid_template_rows": null,
            "height": null,
            "justify_content": null,
            "justify_items": null,
            "left": null,
            "margin": null,
            "max_height": null,
            "max_width": null,
            "min_height": null,
            "min_width": null,
            "object_fit": null,
            "object_position": null,
            "order": null,
            "overflow": null,
            "overflow_x": null,
            "overflow_y": null,
            "padding": null,
            "right": null,
            "top": null,
            "visibility": null,
            "width": null
          }
        },
        "1ab6b42da8124d84b0ba452bf5aac2b9": {
          "model_module": "@jupyter-widgets/base",
          "model_name": "LayoutModel",
          "model_module_version": "1.2.0",
          "state": {
            "_model_module": "@jupyter-widgets/base",
            "_model_module_version": "1.2.0",
            "_model_name": "LayoutModel",
            "_view_count": null,
            "_view_module": "@jupyter-widgets/base",
            "_view_module_version": "1.2.0",
            "_view_name": "LayoutView",
            "align_content": null,
            "align_items": null,
            "align_self": null,
            "border": null,
            "bottom": null,
            "display": null,
            "flex": null,
            "flex_flow": null,
            "grid_area": null,
            "grid_auto_columns": null,
            "grid_auto_flow": null,
            "grid_auto_rows": null,
            "grid_column": null,
            "grid_gap": null,
            "grid_row": null,
            "grid_template_areas": null,
            "grid_template_columns": null,
            "grid_template_rows": null,
            "height": null,
            "justify_content": null,
            "justify_items": null,
            "left": null,
            "margin": null,
            "max_height": null,
            "max_width": null,
            "min_height": null,
            "min_width": null,
            "object_fit": null,
            "object_position": null,
            "order": null,
            "overflow": null,
            "overflow_x": null,
            "overflow_y": null,
            "padding": null,
            "right": null,
            "top": null,
            "visibility": null,
            "width": null
          }
        },
        "c14b8f43d51f4ecfb3048530d2e8f98a": {
          "model_module": "@jupyter-widgets/controls",
          "model_name": "DescriptionStyleModel",
          "model_module_version": "1.5.0",
          "state": {
            "_model_module": "@jupyter-widgets/controls",
            "_model_module_version": "1.5.0",
            "_model_name": "DescriptionStyleModel",
            "_view_count": null,
            "_view_module": "@jupyter-widgets/base",
            "_view_module_version": "1.2.0",
            "_view_name": "StyleView",
            "description_width": ""
          }
        },
        "e895472e33024ed09b247660865988b9": {
          "model_module": "@jupyter-widgets/base",
          "model_name": "LayoutModel",
          "model_module_version": "1.2.0",
          "state": {
            "_model_module": "@jupyter-widgets/base",
            "_model_module_version": "1.2.0",
            "_model_name": "LayoutModel",
            "_view_count": null,
            "_view_module": "@jupyter-widgets/base",
            "_view_module_version": "1.2.0",
            "_view_name": "LayoutView",
            "align_content": null,
            "align_items": null,
            "align_self": null,
            "border": null,
            "bottom": null,
            "display": null,
            "flex": null,
            "flex_flow": null,
            "grid_area": null,
            "grid_auto_columns": null,
            "grid_auto_flow": null,
            "grid_auto_rows": null,
            "grid_column": null,
            "grid_gap": null,
            "grid_row": null,
            "grid_template_areas": null,
            "grid_template_columns": null,
            "grid_template_rows": null,
            "height": null,
            "justify_content": null,
            "justify_items": null,
            "left": null,
            "margin": null,
            "max_height": null,
            "max_width": null,
            "min_height": null,
            "min_width": null,
            "object_fit": null,
            "object_position": null,
            "order": null,
            "overflow": null,
            "overflow_x": null,
            "overflow_y": null,
            "padding": null,
            "right": null,
            "top": null,
            "visibility": null,
            "width": null
          }
        },
        "9d362d77d2c04042a299f21b47ba1ba4": {
          "model_module": "@jupyter-widgets/controls",
          "model_name": "ProgressStyleModel",
          "model_module_version": "1.5.0",
          "state": {
            "_model_module": "@jupyter-widgets/controls",
            "_model_module_version": "1.5.0",
            "_model_name": "ProgressStyleModel",
            "_view_count": null,
            "_view_module": "@jupyter-widgets/base",
            "_view_module_version": "1.2.0",
            "_view_name": "StyleView",
            "bar_color": null,
            "description_width": ""
          }
        },
        "d65b4fe206d04ea68f7aef7e0c88d0a7": {
          "model_module": "@jupyter-widgets/base",
          "model_name": "LayoutModel",
          "model_module_version": "1.2.0",
          "state": {
            "_model_module": "@jupyter-widgets/base",
            "_model_module_version": "1.2.0",
            "_model_name": "LayoutModel",
            "_view_count": null,
            "_view_module": "@jupyter-widgets/base",
            "_view_module_version": "1.2.0",
            "_view_name": "LayoutView",
            "align_content": null,
            "align_items": null,
            "align_self": null,
            "border": null,
            "bottom": null,
            "display": null,
            "flex": null,
            "flex_flow": null,
            "grid_area": null,
            "grid_auto_columns": null,
            "grid_auto_flow": null,
            "grid_auto_rows": null,
            "grid_column": null,
            "grid_gap": null,
            "grid_row": null,
            "grid_template_areas": null,
            "grid_template_columns": null,
            "grid_template_rows": null,
            "height": null,
            "justify_content": null,
            "justify_items": null,
            "left": null,
            "margin": null,
            "max_height": null,
            "max_width": null,
            "min_height": null,
            "min_width": null,
            "object_fit": null,
            "object_position": null,
            "order": null,
            "overflow": null,
            "overflow_x": null,
            "overflow_y": null,
            "padding": null,
            "right": null,
            "top": null,
            "visibility": null,
            "width": null
          }
        },
        "e32550903d9b47cbb74a348d648bf923": {
          "model_module": "@jupyter-widgets/controls",
          "model_name": "DescriptionStyleModel",
          "model_module_version": "1.5.0",
          "state": {
            "_model_module": "@jupyter-widgets/controls",
            "_model_module_version": "1.5.0",
            "_model_name": "DescriptionStyleModel",
            "_view_count": null,
            "_view_module": "@jupyter-widgets/base",
            "_view_module_version": "1.2.0",
            "_view_name": "StyleView",
            "description_width": ""
          }
        },
        "98424827e43c4ae39f9f2765989ae842": {
          "model_module": "@jupyter-widgets/controls",
          "model_name": "HBoxModel",
          "model_module_version": "1.5.0",
          "state": {
            "_dom_classes": [],
            "_model_module": "@jupyter-widgets/controls",
            "_model_module_version": "1.5.0",
            "_model_name": "HBoxModel",
            "_view_count": null,
            "_view_module": "@jupyter-widgets/controls",
            "_view_module_version": "1.5.0",
            "_view_name": "HBoxView",
            "box_style": "",
            "children": [
              "IPY_MODEL_951515ee1fc34624b05e898ef2da4819",
              "IPY_MODEL_d4b405fe12da4e0ab7863bb40da8227a",
              "IPY_MODEL_e0380b3c70f94dd5bb541ee8b62452fd"
            ],
            "layout": "IPY_MODEL_46a36fad2ec44b828ef9669904819e50"
          }
        },
        "951515ee1fc34624b05e898ef2da4819": {
          "model_module": "@jupyter-widgets/controls",
          "model_name": "HTMLModel",
          "model_module_version": "1.5.0",
          "state": {
            "_dom_classes": [],
            "_model_module": "@jupyter-widgets/controls",
            "_model_module_version": "1.5.0",
            "_model_name": "HTMLModel",
            "_view_count": null,
            "_view_module": "@jupyter-widgets/controls",
            "_view_module_version": "1.5.0",
            "_view_name": "HTMLView",
            "description": "",
            "description_tooltip": null,
            "layout": "IPY_MODEL_8684c1a367464fbfa89ec4a352fcf857",
            "placeholder": "​",
            "style": "IPY_MODEL_ceb6a27a291f4780b9cc3ce6b74f2389",
            "value": "100%"
          }
        },
        "d4b405fe12da4e0ab7863bb40da8227a": {
          "model_module": "@jupyter-widgets/controls",
          "model_name": "FloatProgressModel",
          "model_module_version": "1.5.0",
          "state": {
            "_dom_classes": [],
            "_model_module": "@jupyter-widgets/controls",
            "_model_module_version": "1.5.0",
            "_model_name": "FloatProgressModel",
            "_view_count": null,
            "_view_module": "@jupyter-widgets/controls",
            "_view_module_version": "1.5.0",
            "_view_name": "ProgressView",
            "bar_style": "success",
            "description": "",
            "description_tooltip": null,
            "layout": "IPY_MODEL_17aa79a0951c4e189f1c3ebcce00cae6",
            "max": 9999,
            "min": 0,
            "orientation": "horizontal",
            "style": "IPY_MODEL_5904b3938b844f789c35131f0463244e",
            "value": 9999
          }
        },
        "e0380b3c70f94dd5bb541ee8b62452fd": {
          "model_module": "@jupyter-widgets/controls",
          "model_name": "HTMLModel",
          "model_module_version": "1.5.0",
          "state": {
            "_dom_classes": [],
            "_model_module": "@jupyter-widgets/controls",
            "_model_module_version": "1.5.0",
            "_model_name": "HTMLModel",
            "_view_count": null,
            "_view_module": "@jupyter-widgets/controls",
            "_view_module_version": "1.5.0",
            "_view_name": "HTMLView",
            "description": "",
            "description_tooltip": null,
            "layout": "IPY_MODEL_e6d64ab4a51d4314844028098f3f9fc8",
            "placeholder": "​",
            "style": "IPY_MODEL_97caed098a1848f7ab998438d0fa43e3",
            "value": " 9999/9999 [00:08&lt;00:00, 1250.89it/s]"
          }
        },
        "46a36fad2ec44b828ef9669904819e50": {
          "model_module": "@jupyter-widgets/base",
          "model_name": "LayoutModel",
          "model_module_version": "1.2.0",
          "state": {
            "_model_module": "@jupyter-widgets/base",
            "_model_module_version": "1.2.0",
            "_model_name": "LayoutModel",
            "_view_count": null,
            "_view_module": "@jupyter-widgets/base",
            "_view_module_version": "1.2.0",
            "_view_name": "LayoutView",
            "align_content": null,
            "align_items": null,
            "align_self": null,
            "border": null,
            "bottom": null,
            "display": null,
            "flex": null,
            "flex_flow": null,
            "grid_area": null,
            "grid_auto_columns": null,
            "grid_auto_flow": null,
            "grid_auto_rows": null,
            "grid_column": null,
            "grid_gap": null,
            "grid_row": null,
            "grid_template_areas": null,
            "grid_template_columns": null,
            "grid_template_rows": null,
            "height": null,
            "justify_content": null,
            "justify_items": null,
            "left": null,
            "margin": null,
            "max_height": null,
            "max_width": null,
            "min_height": null,
            "min_width": null,
            "object_fit": null,
            "object_position": null,
            "order": null,
            "overflow": null,
            "overflow_x": null,
            "overflow_y": null,
            "padding": null,
            "right": null,
            "top": null,
            "visibility": null,
            "width": null
          }
        },
        "8684c1a367464fbfa89ec4a352fcf857": {
          "model_module": "@jupyter-widgets/base",
          "model_name": "LayoutModel",
          "model_module_version": "1.2.0",
          "state": {
            "_model_module": "@jupyter-widgets/base",
            "_model_module_version": "1.2.0",
            "_model_name": "LayoutModel",
            "_view_count": null,
            "_view_module": "@jupyter-widgets/base",
            "_view_module_version": "1.2.0",
            "_view_name": "LayoutView",
            "align_content": null,
            "align_items": null,
            "align_self": null,
            "border": null,
            "bottom": null,
            "display": null,
            "flex": null,
            "flex_flow": null,
            "grid_area": null,
            "grid_auto_columns": null,
            "grid_auto_flow": null,
            "grid_auto_rows": null,
            "grid_column": null,
            "grid_gap": null,
            "grid_row": null,
            "grid_template_areas": null,
            "grid_template_columns": null,
            "grid_template_rows": null,
            "height": null,
            "justify_content": null,
            "justify_items": null,
            "left": null,
            "margin": null,
            "max_height": null,
            "max_width": null,
            "min_height": null,
            "min_width": null,
            "object_fit": null,
            "object_position": null,
            "order": null,
            "overflow": null,
            "overflow_x": null,
            "overflow_y": null,
            "padding": null,
            "right": null,
            "top": null,
            "visibility": null,
            "width": null
          }
        },
        "ceb6a27a291f4780b9cc3ce6b74f2389": {
          "model_module": "@jupyter-widgets/controls",
          "model_name": "DescriptionStyleModel",
          "model_module_version": "1.5.0",
          "state": {
            "_model_module": "@jupyter-widgets/controls",
            "_model_module_version": "1.5.0",
            "_model_name": "DescriptionStyleModel",
            "_view_count": null,
            "_view_module": "@jupyter-widgets/base",
            "_view_module_version": "1.2.0",
            "_view_name": "StyleView",
            "description_width": ""
          }
        },
        "17aa79a0951c4e189f1c3ebcce00cae6": {
          "model_module": "@jupyter-widgets/base",
          "model_name": "LayoutModel",
          "model_module_version": "1.2.0",
          "state": {
            "_model_module": "@jupyter-widgets/base",
            "_model_module_version": "1.2.0",
            "_model_name": "LayoutModel",
            "_view_count": null,
            "_view_module": "@jupyter-widgets/base",
            "_view_module_version": "1.2.0",
            "_view_name": "LayoutView",
            "align_content": null,
            "align_items": null,
            "align_self": null,
            "border": null,
            "bottom": null,
            "display": null,
            "flex": null,
            "flex_flow": null,
            "grid_area": null,
            "grid_auto_columns": null,
            "grid_auto_flow": null,
            "grid_auto_rows": null,
            "grid_column": null,
            "grid_gap": null,
            "grid_row": null,
            "grid_template_areas": null,
            "grid_template_columns": null,
            "grid_template_rows": null,
            "height": null,
            "justify_content": null,
            "justify_items": null,
            "left": null,
            "margin": null,
            "max_height": null,
            "max_width": null,
            "min_height": null,
            "min_width": null,
            "object_fit": null,
            "object_position": null,
            "order": null,
            "overflow": null,
            "overflow_x": null,
            "overflow_y": null,
            "padding": null,
            "right": null,
            "top": null,
            "visibility": null,
            "width": null
          }
        },
        "5904b3938b844f789c35131f0463244e": {
          "model_module": "@jupyter-widgets/controls",
          "model_name": "ProgressStyleModel",
          "model_module_version": "1.5.0",
          "state": {
            "_model_module": "@jupyter-widgets/controls",
            "_model_module_version": "1.5.0",
            "_model_name": "ProgressStyleModel",
            "_view_count": null,
            "_view_module": "@jupyter-widgets/base",
            "_view_module_version": "1.2.0",
            "_view_name": "StyleView",
            "bar_color": null,
            "description_width": ""
          }
        },
        "e6d64ab4a51d4314844028098f3f9fc8": {
          "model_module": "@jupyter-widgets/base",
          "model_name": "LayoutModel",
          "model_module_version": "1.2.0",
          "state": {
            "_model_module": "@jupyter-widgets/base",
            "_model_module_version": "1.2.0",
            "_model_name": "LayoutModel",
            "_view_count": null,
            "_view_module": "@jupyter-widgets/base",
            "_view_module_version": "1.2.0",
            "_view_name": "LayoutView",
            "align_content": null,
            "align_items": null,
            "align_self": null,
            "border": null,
            "bottom": null,
            "display": null,
            "flex": null,
            "flex_flow": null,
            "grid_area": null,
            "grid_auto_columns": null,
            "grid_auto_flow": null,
            "grid_auto_rows": null,
            "grid_column": null,
            "grid_gap": null,
            "grid_row": null,
            "grid_template_areas": null,
            "grid_template_columns": null,
            "grid_template_rows": null,
            "height": null,
            "justify_content": null,
            "justify_items": null,
            "left": null,
            "margin": null,
            "max_height": null,
            "max_width": null,
            "min_height": null,
            "min_width": null,
            "object_fit": null,
            "object_position": null,
            "order": null,
            "overflow": null,
            "overflow_x": null,
            "overflow_y": null,
            "padding": null,
            "right": null,
            "top": null,
            "visibility": null,
            "width": null
          }
        },
        "97caed098a1848f7ab998438d0fa43e3": {
          "model_module": "@jupyter-widgets/controls",
          "model_name": "DescriptionStyleModel",
          "model_module_version": "1.5.0",
          "state": {
            "_model_module": "@jupyter-widgets/controls",
            "_model_module_version": "1.5.0",
            "_model_name": "DescriptionStyleModel",
            "_view_count": null,
            "_view_module": "@jupyter-widgets/base",
            "_view_module_version": "1.2.0",
            "_view_name": "StyleView",
            "description_width": ""
          }
        },
        "bc26b6c459a44f349bb840658d03c646": {
          "model_module": "@jupyter-widgets/controls",
          "model_name": "HBoxModel",
          "model_module_version": "1.5.0",
          "state": {
            "_dom_classes": [],
            "_model_module": "@jupyter-widgets/controls",
            "_model_module_version": "1.5.0",
            "_model_name": "HBoxModel",
            "_view_count": null,
            "_view_module": "@jupyter-widgets/controls",
            "_view_module_version": "1.5.0",
            "_view_name": "HBoxView",
            "box_style": "",
            "children": [
              "IPY_MODEL_aaab11b5c60b4b89a293c86300dad344",
              "IPY_MODEL_53815d4bdd704eeabf29909d671c3f97",
              "IPY_MODEL_bf6955a4250041ae968c6d657e6b5bb8"
            ],
            "layout": "IPY_MODEL_918d44e9aa594de687a531de7c02e5d5"
          }
        },
        "aaab11b5c60b4b89a293c86300dad344": {
          "model_module": "@jupyter-widgets/controls",
          "model_name": "HTMLModel",
          "model_module_version": "1.5.0",
          "state": {
            "_dom_classes": [],
            "_model_module": "@jupyter-widgets/controls",
            "_model_module_version": "1.5.0",
            "_model_name": "HTMLModel",
            "_view_count": null,
            "_view_module": "@jupyter-widgets/controls",
            "_view_module_version": "1.5.0",
            "_view_name": "HTMLView",
            "description": "",
            "description_tooltip": null,
            "layout": "IPY_MODEL_05674bf0974f471c9c43d6d753ff2298",
            "placeholder": "​",
            "style": "IPY_MODEL_6918cbe9417a4a07aca395be1c3a1041",
            "value": "100%"
          }
        },
        "53815d4bdd704eeabf29909d671c3f97": {
          "model_module": "@jupyter-widgets/controls",
          "model_name": "FloatProgressModel",
          "model_module_version": "1.5.0",
          "state": {
            "_dom_classes": [],
            "_model_module": "@jupyter-widgets/controls",
            "_model_module_version": "1.5.0",
            "_model_name": "FloatProgressModel",
            "_view_count": null,
            "_view_module": "@jupyter-widgets/controls",
            "_view_module_version": "1.5.0",
            "_view_name": "ProgressView",
            "bar_style": "success",
            "description": "",
            "description_tooltip": null,
            "layout": "IPY_MODEL_454feeeed1644506a41791ac0bd9253d",
            "max": 1401,
            "min": 0,
            "orientation": "horizontal",
            "style": "IPY_MODEL_96fb7935ff7c42e68191d1ce12998476",
            "value": 1401
          }
        },
        "bf6955a4250041ae968c6d657e6b5bb8": {
          "model_module": "@jupyter-widgets/controls",
          "model_name": "HTMLModel",
          "model_module_version": "1.5.0",
          "state": {
            "_dom_classes": [],
            "_model_module": "@jupyter-widgets/controls",
            "_model_module_version": "1.5.0",
            "_model_name": "HTMLModel",
            "_view_count": null,
            "_view_module": "@jupyter-widgets/controls",
            "_view_module_version": "1.5.0",
            "_view_name": "HTMLView",
            "description": "",
            "description_tooltip": null,
            "layout": "IPY_MODEL_0995604b4c074ef1bee6e7642c21fca8",
            "placeholder": "​",
            "style": "IPY_MODEL_50ac4d1d780d47068424b01585188137",
            "value": " 1401/1401 [00:01&lt;00:00, 1064.31it/s]"
          }
        },
        "918d44e9aa594de687a531de7c02e5d5": {
          "model_module": "@jupyter-widgets/base",
          "model_name": "LayoutModel",
          "model_module_version": "1.2.0",
          "state": {
            "_model_module": "@jupyter-widgets/base",
            "_model_module_version": "1.2.0",
            "_model_name": "LayoutModel",
            "_view_count": null,
            "_view_module": "@jupyter-widgets/base",
            "_view_module_version": "1.2.0",
            "_view_name": "LayoutView",
            "align_content": null,
            "align_items": null,
            "align_self": null,
            "border": null,
            "bottom": null,
            "display": null,
            "flex": null,
            "flex_flow": null,
            "grid_area": null,
            "grid_auto_columns": null,
            "grid_auto_flow": null,
            "grid_auto_rows": null,
            "grid_column": null,
            "grid_gap": null,
            "grid_row": null,
            "grid_template_areas": null,
            "grid_template_columns": null,
            "grid_template_rows": null,
            "height": null,
            "justify_content": null,
            "justify_items": null,
            "left": null,
            "margin": null,
            "max_height": null,
            "max_width": null,
            "min_height": null,
            "min_width": null,
            "object_fit": null,
            "object_position": null,
            "order": null,
            "overflow": null,
            "overflow_x": null,
            "overflow_y": null,
            "padding": null,
            "right": null,
            "top": null,
            "visibility": null,
            "width": null
          }
        },
        "05674bf0974f471c9c43d6d753ff2298": {
          "model_module": "@jupyter-widgets/base",
          "model_name": "LayoutModel",
          "model_module_version": "1.2.0",
          "state": {
            "_model_module": "@jupyter-widgets/base",
            "_model_module_version": "1.2.0",
            "_model_name": "LayoutModel",
            "_view_count": null,
            "_view_module": "@jupyter-widgets/base",
            "_view_module_version": "1.2.0",
            "_view_name": "LayoutView",
            "align_content": null,
            "align_items": null,
            "align_self": null,
            "border": null,
            "bottom": null,
            "display": null,
            "flex": null,
            "flex_flow": null,
            "grid_area": null,
            "grid_auto_columns": null,
            "grid_auto_flow": null,
            "grid_auto_rows": null,
            "grid_column": null,
            "grid_gap": null,
            "grid_row": null,
            "grid_template_areas": null,
            "grid_template_columns": null,
            "grid_template_rows": null,
            "height": null,
            "justify_content": null,
            "justify_items": null,
            "left": null,
            "margin": null,
            "max_height": null,
            "max_width": null,
            "min_height": null,
            "min_width": null,
            "object_fit": null,
            "object_position": null,
            "order": null,
            "overflow": null,
            "overflow_x": null,
            "overflow_y": null,
            "padding": null,
            "right": null,
            "top": null,
            "visibility": null,
            "width": null
          }
        },
        "6918cbe9417a4a07aca395be1c3a1041": {
          "model_module": "@jupyter-widgets/controls",
          "model_name": "DescriptionStyleModel",
          "model_module_version": "1.5.0",
          "state": {
            "_model_module": "@jupyter-widgets/controls",
            "_model_module_version": "1.5.0",
            "_model_name": "DescriptionStyleModel",
            "_view_count": null,
            "_view_module": "@jupyter-widgets/base",
            "_view_module_version": "1.2.0",
            "_view_name": "StyleView",
            "description_width": ""
          }
        },
        "454feeeed1644506a41791ac0bd9253d": {
          "model_module": "@jupyter-widgets/base",
          "model_name": "LayoutModel",
          "model_module_version": "1.2.0",
          "state": {
            "_model_module": "@jupyter-widgets/base",
            "_model_module_version": "1.2.0",
            "_model_name": "LayoutModel",
            "_view_count": null,
            "_view_module": "@jupyter-widgets/base",
            "_view_module_version": "1.2.0",
            "_view_name": "LayoutView",
            "align_content": null,
            "align_items": null,
            "align_self": null,
            "border": null,
            "bottom": null,
            "display": null,
            "flex": null,
            "flex_flow": null,
            "grid_area": null,
            "grid_auto_columns": null,
            "grid_auto_flow": null,
            "grid_auto_rows": null,
            "grid_column": null,
            "grid_gap": null,
            "grid_row": null,
            "grid_template_areas": null,
            "grid_template_columns": null,
            "grid_template_rows": null,
            "height": null,
            "justify_content": null,
            "justify_items": null,
            "left": null,
            "margin": null,
            "max_height": null,
            "max_width": null,
            "min_height": null,
            "min_width": null,
            "object_fit": null,
            "object_position": null,
            "order": null,
            "overflow": null,
            "overflow_x": null,
            "overflow_y": null,
            "padding": null,
            "right": null,
            "top": null,
            "visibility": null,
            "width": null
          }
        },
        "96fb7935ff7c42e68191d1ce12998476": {
          "model_module": "@jupyter-widgets/controls",
          "model_name": "ProgressStyleModel",
          "model_module_version": "1.5.0",
          "state": {
            "_model_module": "@jupyter-widgets/controls",
            "_model_module_version": "1.5.0",
            "_model_name": "ProgressStyleModel",
            "_view_count": null,
            "_view_module": "@jupyter-widgets/base",
            "_view_module_version": "1.2.0",
            "_view_name": "StyleView",
            "bar_color": null,
            "description_width": ""
          }
        },
        "0995604b4c074ef1bee6e7642c21fca8": {
          "model_module": "@jupyter-widgets/base",
          "model_name": "LayoutModel",
          "model_module_version": "1.2.0",
          "state": {
            "_model_module": "@jupyter-widgets/base",
            "_model_module_version": "1.2.0",
            "_model_name": "LayoutModel",
            "_view_count": null,
            "_view_module": "@jupyter-widgets/base",
            "_view_module_version": "1.2.0",
            "_view_name": "LayoutView",
            "align_content": null,
            "align_items": null,
            "align_self": null,
            "border": null,
            "bottom": null,
            "display": null,
            "flex": null,
            "flex_flow": null,
            "grid_area": null,
            "grid_auto_columns": null,
            "grid_auto_flow": null,
            "grid_auto_rows": null,
            "grid_column": null,
            "grid_gap": null,
            "grid_row": null,
            "grid_template_areas": null,
            "grid_template_columns": null,
            "grid_template_rows": null,
            "height": null,
            "justify_content": null,
            "justify_items": null,
            "left": null,
            "margin": null,
            "max_height": null,
            "max_width": null,
            "min_height": null,
            "min_width": null,
            "object_fit": null,
            "object_position": null,
            "order": null,
            "overflow": null,
            "overflow_x": null,
            "overflow_y": null,
            "padding": null,
            "right": null,
            "top": null,
            "visibility": null,
            "width": null
          }
        },
        "50ac4d1d780d47068424b01585188137": {
          "model_module": "@jupyter-widgets/controls",
          "model_name": "DescriptionStyleModel",
          "model_module_version": "1.5.0",
          "state": {
            "_model_module": "@jupyter-widgets/controls",
            "_model_module_version": "1.5.0",
            "_model_name": "DescriptionStyleModel",
            "_view_count": null,
            "_view_module": "@jupyter-widgets/base",
            "_view_module_version": "1.2.0",
            "_view_name": "StyleView",
            "description_width": ""
          }
        },
        "a630ffe2a3cd41bfbff84f7f4efd086a": {
          "model_module": "@jupyter-widgets/controls",
          "model_name": "HBoxModel",
          "model_module_version": "1.5.0",
          "state": {
            "_dom_classes": [],
            "_model_module": "@jupyter-widgets/controls",
            "_model_module_version": "1.5.0",
            "_model_name": "HBoxModel",
            "_view_count": null,
            "_view_module": "@jupyter-widgets/controls",
            "_view_module_version": "1.5.0",
            "_view_name": "HBoxView",
            "box_style": "",
            "children": [
              "IPY_MODEL_1562ddd79e2f4346821280e6d1cbe7c3",
              "IPY_MODEL_4af1264c766d4007a10ba8a8b09524d4",
              "IPY_MODEL_107aa1b7d6184e51924aa4e26ce20420"
            ],
            "layout": "IPY_MODEL_4e9c9e734aae4a3cb58c6a3075b548c7"
          }
        },
        "1562ddd79e2f4346821280e6d1cbe7c3": {
          "model_module": "@jupyter-widgets/controls",
          "model_name": "HTMLModel",
          "model_module_version": "1.5.0",
          "state": {
            "_dom_classes": [],
            "_model_module": "@jupyter-widgets/controls",
            "_model_module_version": "1.5.0",
            "_model_name": "HTMLModel",
            "_view_count": null,
            "_view_module": "@jupyter-widgets/controls",
            "_view_module_version": "1.5.0",
            "_view_name": "HTMLView",
            "description": "",
            "description_tooltip": null,
            "layout": "IPY_MODEL_d85e66065ef64f21b7ec794daf45fc2c",
            "placeholder": "​",
            "style": "IPY_MODEL_e219a01624db4597b991501d31f7e4d8",
            "value": "100%"
          }
        },
        "4af1264c766d4007a10ba8a8b09524d4": {
          "model_module": "@jupyter-widgets/controls",
          "model_name": "FloatProgressModel",
          "model_module_version": "1.5.0",
          "state": {
            "_dom_classes": [],
            "_model_module": "@jupyter-widgets/controls",
            "_model_module_version": "1.5.0",
            "_model_name": "FloatProgressModel",
            "_view_count": null,
            "_view_module": "@jupyter-widgets/controls",
            "_view_module_version": "1.5.0",
            "_view_name": "ProgressView",
            "bar_style": "success",
            "description": "",
            "description_tooltip": null,
            "layout": "IPY_MODEL_4df97e2614f34b7cbe9457e65399d5b2",
            "max": 1112,
            "min": 0,
            "orientation": "horizontal",
            "style": "IPY_MODEL_67e9bc46959146449478e4ac77a3ece5",
            "value": 1112
          }
        },
        "107aa1b7d6184e51924aa4e26ce20420": {
          "model_module": "@jupyter-widgets/controls",
          "model_name": "HTMLModel",
          "model_module_version": "1.5.0",
          "state": {
            "_dom_classes": [],
            "_model_module": "@jupyter-widgets/controls",
            "_model_module_version": "1.5.0",
            "_model_name": "HTMLModel",
            "_view_count": null,
            "_view_module": "@jupyter-widgets/controls",
            "_view_module_version": "1.5.0",
            "_view_name": "HTMLView",
            "description": "",
            "description_tooltip": null,
            "layout": "IPY_MODEL_451842850817470784458910066cb646",
            "placeholder": "​",
            "style": "IPY_MODEL_054ebe2fc164420bb2bdb8318c3ac599",
            "value": " 1112/1112 [00:01&lt;00:00, 1152.49it/s]"
          }
        },
        "4e9c9e734aae4a3cb58c6a3075b548c7": {
          "model_module": "@jupyter-widgets/base",
          "model_name": "LayoutModel",
          "model_module_version": "1.2.0",
          "state": {
            "_model_module": "@jupyter-widgets/base",
            "_model_module_version": "1.2.0",
            "_model_name": "LayoutModel",
            "_view_count": null,
            "_view_module": "@jupyter-widgets/base",
            "_view_module_version": "1.2.0",
            "_view_name": "LayoutView",
            "align_content": null,
            "align_items": null,
            "align_self": null,
            "border": null,
            "bottom": null,
            "display": null,
            "flex": null,
            "flex_flow": null,
            "grid_area": null,
            "grid_auto_columns": null,
            "grid_auto_flow": null,
            "grid_auto_rows": null,
            "grid_column": null,
            "grid_gap": null,
            "grid_row": null,
            "grid_template_areas": null,
            "grid_template_columns": null,
            "grid_template_rows": null,
            "height": null,
            "justify_content": null,
            "justify_items": null,
            "left": null,
            "margin": null,
            "max_height": null,
            "max_width": null,
            "min_height": null,
            "min_width": null,
            "object_fit": null,
            "object_position": null,
            "order": null,
            "overflow": null,
            "overflow_x": null,
            "overflow_y": null,
            "padding": null,
            "right": null,
            "top": null,
            "visibility": null,
            "width": null
          }
        },
        "d85e66065ef64f21b7ec794daf45fc2c": {
          "model_module": "@jupyter-widgets/base",
          "model_name": "LayoutModel",
          "model_module_version": "1.2.0",
          "state": {
            "_model_module": "@jupyter-widgets/base",
            "_model_module_version": "1.2.0",
            "_model_name": "LayoutModel",
            "_view_count": null,
            "_view_module": "@jupyter-widgets/base",
            "_view_module_version": "1.2.0",
            "_view_name": "LayoutView",
            "align_content": null,
            "align_items": null,
            "align_self": null,
            "border": null,
            "bottom": null,
            "display": null,
            "flex": null,
            "flex_flow": null,
            "grid_area": null,
            "grid_auto_columns": null,
            "grid_auto_flow": null,
            "grid_auto_rows": null,
            "grid_column": null,
            "grid_gap": null,
            "grid_row": null,
            "grid_template_areas": null,
            "grid_template_columns": null,
            "grid_template_rows": null,
            "height": null,
            "justify_content": null,
            "justify_items": null,
            "left": null,
            "margin": null,
            "max_height": null,
            "max_width": null,
            "min_height": null,
            "min_width": null,
            "object_fit": null,
            "object_position": null,
            "order": null,
            "overflow": null,
            "overflow_x": null,
            "overflow_y": null,
            "padding": null,
            "right": null,
            "top": null,
            "visibility": null,
            "width": null
          }
        },
        "e219a01624db4597b991501d31f7e4d8": {
          "model_module": "@jupyter-widgets/controls",
          "model_name": "DescriptionStyleModel",
          "model_module_version": "1.5.0",
          "state": {
            "_model_module": "@jupyter-widgets/controls",
            "_model_module_version": "1.5.0",
            "_model_name": "DescriptionStyleModel",
            "_view_count": null,
            "_view_module": "@jupyter-widgets/base",
            "_view_module_version": "1.2.0",
            "_view_name": "StyleView",
            "description_width": ""
          }
        },
        "4df97e2614f34b7cbe9457e65399d5b2": {
          "model_module": "@jupyter-widgets/base",
          "model_name": "LayoutModel",
          "model_module_version": "1.2.0",
          "state": {
            "_model_module": "@jupyter-widgets/base",
            "_model_module_version": "1.2.0",
            "_model_name": "LayoutModel",
            "_view_count": null,
            "_view_module": "@jupyter-widgets/base",
            "_view_module_version": "1.2.0",
            "_view_name": "LayoutView",
            "align_content": null,
            "align_items": null,
            "align_self": null,
            "border": null,
            "bottom": null,
            "display": null,
            "flex": null,
            "flex_flow": null,
            "grid_area": null,
            "grid_auto_columns": null,
            "grid_auto_flow": null,
            "grid_auto_rows": null,
            "grid_column": null,
            "grid_gap": null,
            "grid_row": null,
            "grid_template_areas": null,
            "grid_template_columns": null,
            "grid_template_rows": null,
            "height": null,
            "justify_content": null,
            "justify_items": null,
            "left": null,
            "margin": null,
            "max_height": null,
            "max_width": null,
            "min_height": null,
            "min_width": null,
            "object_fit": null,
            "object_position": null,
            "order": null,
            "overflow": null,
            "overflow_x": null,
            "overflow_y": null,
            "padding": null,
            "right": null,
            "top": null,
            "visibility": null,
            "width": null
          }
        },
        "67e9bc46959146449478e4ac77a3ece5": {
          "model_module": "@jupyter-widgets/controls",
          "model_name": "ProgressStyleModel",
          "model_module_version": "1.5.0",
          "state": {
            "_model_module": "@jupyter-widgets/controls",
            "_model_module_version": "1.5.0",
            "_model_name": "ProgressStyleModel",
            "_view_count": null,
            "_view_module": "@jupyter-widgets/base",
            "_view_module_version": "1.2.0",
            "_view_name": "StyleView",
            "bar_color": null,
            "description_width": ""
          }
        },
        "451842850817470784458910066cb646": {
          "model_module": "@jupyter-widgets/base",
          "model_name": "LayoutModel",
          "model_module_version": "1.2.0",
          "state": {
            "_model_module": "@jupyter-widgets/base",
            "_model_module_version": "1.2.0",
            "_model_name": "LayoutModel",
            "_view_count": null,
            "_view_module": "@jupyter-widgets/base",
            "_view_module_version": "1.2.0",
            "_view_name": "LayoutView",
            "align_content": null,
            "align_items": null,
            "align_self": null,
            "border": null,
            "bottom": null,
            "display": null,
            "flex": null,
            "flex_flow": null,
            "grid_area": null,
            "grid_auto_columns": null,
            "grid_auto_flow": null,
            "grid_auto_rows": null,
            "grid_column": null,
            "grid_gap": null,
            "grid_row": null,
            "grid_template_areas": null,
            "grid_template_columns": null,
            "grid_template_rows": null,
            "height": null,
            "justify_content": null,
            "justify_items": null,
            "left": null,
            "margin": null,
            "max_height": null,
            "max_width": null,
            "min_height": null,
            "min_width": null,
            "object_fit": null,
            "object_position": null,
            "order": null,
            "overflow": null,
            "overflow_x": null,
            "overflow_y": null,
            "padding": null,
            "right": null,
            "top": null,
            "visibility": null,
            "width": null
          }
        },
        "054ebe2fc164420bb2bdb8318c3ac599": {
          "model_module": "@jupyter-widgets/controls",
          "model_name": "DescriptionStyleModel",
          "model_module_version": "1.5.0",
          "state": {
            "_model_module": "@jupyter-widgets/controls",
            "_model_module_version": "1.5.0",
            "_model_name": "DescriptionStyleModel",
            "_view_count": null,
            "_view_module": "@jupyter-widgets/base",
            "_view_module_version": "1.2.0",
            "_view_name": "StyleView",
            "description_width": ""
          }
        }
      }
    }
  },
  "cells": [
    {
      "cell_type": "markdown",
      "metadata": {
        "id": "view-in-github",
        "colab_type": "text"
      },
      "source": [
        "<a href=\"https://colab.research.google.com/github/ashleychoi121/Deep-Learning-Recycle-Machine/blob/main/Capstone_4.ipynb\" target=\"_parent\"><img src=\"https://colab.research.google.com/assets/colab-badge.svg\" alt=\"Open In Colab\"/></a>"
      ]
    },
    {
      "cell_type": "markdown",
      "source": [
        "# Final Capstone Project\n",
        "\n",
        "## Introduction \n",
        "  * 2.12 billion tons of waste are dumped/ year\n",
        "  * Lack of recycling\n",
        "## Datasets Source \n",
        "  * Kaggle \n",
        "  * Total 22,564 number of images\n",
        "## Objective \n",
        "  * To find the best deep learning model that will predict the image\n",
        "\n",
        "## Deep Learning Paremeters \n",
        "  * Number of layers\n",
        "  * Activation functions\n",
        "  * Batch size\n",
        "  * Learning rate\n"
      ],
      "metadata": {
        "id": "7EHJZ4fpmBdg"
      }
    },
    {
      "cell_type": "code",
      "execution_count": null,
      "metadata": {
        "colab": {
          "base_uri": "https://localhost:8080/"
        },
        "id": "OcRtr-kOoQut",
        "outputId": "2abf4788-8a53-47e7-9343-711b49db0cb7"
      },
      "outputs": [
        {
          "output_type": "stream",
          "name": "stdout",
          "text": [
            "Looking in indexes: https://pypi.org/simple, https://us-python.pkg.dev/colab-wheels/public/simple/\n",
            "\u001b[31mERROR: Could not find a version that satisfies the requirement tensorflow-gpu==2.0.0-rc1 (from versions: 2.2.0, 2.2.1, 2.2.2, 2.2.3, 2.3.0, 2.3.1, 2.3.2, 2.3.3, 2.3.4, 2.4.0, 2.4.1, 2.4.2, 2.4.3, 2.4.4, 2.5.0, 2.5.1, 2.5.2, 2.5.3, 2.6.0, 2.6.1, 2.6.2, 2.6.3, 2.6.4, 2.6.5, 2.7.0rc0, 2.7.0rc1, 2.7.0, 2.7.1, 2.7.2, 2.7.3, 2.7.4, 2.8.0rc0, 2.8.0rc1, 2.8.0, 2.8.1, 2.8.2, 2.8.3, 2.8.4, 2.9.0rc0, 2.9.0rc1, 2.9.0rc2, 2.9.0, 2.9.1, 2.9.2, 2.9.3, 2.10.0rc0, 2.10.0rc1, 2.10.0rc2, 2.10.0rc3, 2.10.0, 2.10.1, 2.11.0rc0, 2.11.0rc1, 2.11.0rc2, 2.11.0)\u001b[0m\u001b[31m\n",
            "\u001b[0m\u001b[31mERROR: No matching distribution found for tensorflow-gpu==2.0.0-rc1\u001b[0m\u001b[31m\n",
            "\u001b[0m"
          ]
        }
      ],
      "source": [
        "!pip install tensorflow-gpu==2.0.0-rc1"
      ]
    },
    {
      "cell_type": "code",
      "source": [
        "import tensorflow as tf\n",
        "from tensorflow import keras\n",
        "image_data = tf.keras.datasets.fashion_mnist\n",
        "import matplotlib.pyplot as plt\n",
        "from tensorflow.keras.utils import to_categorical"
      ],
      "metadata": {
        "id": "-XPXiiTDAjxj"
      },
      "execution_count": null,
      "outputs": []
    },
    {
      "cell_type": "code",
      "source": [
        "# Importing images directly from Kaggle using API to skip downloading all dataset to the computer. \n",
        "\n",
        "from google.colab import files\n",
        "uploaded = files.upload()\n",
        "\n",
        "for fn in uploaded.keys():\n",
        "  print('uploaded file \"{name}\" with length {length} bytes'.format(name=fn, length=len(uploaded[fn])))\n",
        "\n",
        "\n",
        "!mkdir -p ~/.kaggle/ && mv kaggle.json ~/.kaggle/ && chmod 600 ~/.kaggle/kaggle.json"
      ],
      "metadata": {
        "colab": {
          "base_uri": "https://localhost:8080/",
          "height": 88
        },
        "id": "UABTxhCMCPCN",
        "outputId": "a6e2ca02-7aed-4b0f-f3e0-69d0d529ea1c"
      },
      "execution_count": null,
      "outputs": [
        {
          "output_type": "display_data",
          "data": {
            "text/plain": [
              "<IPython.core.display.HTML object>"
            ],
            "text/html": [
              "\n",
              "     <input type=\"file\" id=\"files-1e5e27a5-6498-41d8-9748-789259fcecaa\" name=\"files[]\" multiple disabled\n",
              "        style=\"border:none\" />\n",
              "     <output id=\"result-1e5e27a5-6498-41d8-9748-789259fcecaa\">\n",
              "      Upload widget is only available when the cell has been executed in the\n",
              "      current browser session. Please rerun this cell to enable.\n",
              "      </output>\n",
              "      <script>// Copyright 2017 Google LLC\n",
              "//\n",
              "// Licensed under the Apache License, Version 2.0 (the \"License\");\n",
              "// you may not use this file except in compliance with the License.\n",
              "// You may obtain a copy of the License at\n",
              "//\n",
              "//      http://www.apache.org/licenses/LICENSE-2.0\n",
              "//\n",
              "// Unless required by applicable law or agreed to in writing, software\n",
              "// distributed under the License is distributed on an \"AS IS\" BASIS,\n",
              "// WITHOUT WARRANTIES OR CONDITIONS OF ANY KIND, either express or implied.\n",
              "// See the License for the specific language governing permissions and\n",
              "// limitations under the License.\n",
              "\n",
              "/**\n",
              " * @fileoverview Helpers for google.colab Python module.\n",
              " */\n",
              "(function(scope) {\n",
              "function span(text, styleAttributes = {}) {\n",
              "  const element = document.createElement('span');\n",
              "  element.textContent = text;\n",
              "  for (const key of Object.keys(styleAttributes)) {\n",
              "    element.style[key] = styleAttributes[key];\n",
              "  }\n",
              "  return element;\n",
              "}\n",
              "\n",
              "// Max number of bytes which will be uploaded at a time.\n",
              "const MAX_PAYLOAD_SIZE = 100 * 1024;\n",
              "\n",
              "function _uploadFiles(inputId, outputId) {\n",
              "  const steps = uploadFilesStep(inputId, outputId);\n",
              "  const outputElement = document.getElementById(outputId);\n",
              "  // Cache steps on the outputElement to make it available for the next call\n",
              "  // to uploadFilesContinue from Python.\n",
              "  outputElement.steps = steps;\n",
              "\n",
              "  return _uploadFilesContinue(outputId);\n",
              "}\n",
              "\n",
              "// This is roughly an async generator (not supported in the browser yet),\n",
              "// where there are multiple asynchronous steps and the Python side is going\n",
              "// to poll for completion of each step.\n",
              "// This uses a Promise to block the python side on completion of each step,\n",
              "// then passes the result of the previous step as the input to the next step.\n",
              "function _uploadFilesContinue(outputId) {\n",
              "  const outputElement = document.getElementById(outputId);\n",
              "  const steps = outputElement.steps;\n",
              "\n",
              "  const next = steps.next(outputElement.lastPromiseValue);\n",
              "  return Promise.resolve(next.value.promise).then((value) => {\n",
              "    // Cache the last promise value to make it available to the next\n",
              "    // step of the generator.\n",
              "    outputElement.lastPromiseValue = value;\n",
              "    return next.value.response;\n",
              "  });\n",
              "}\n",
              "\n",
              "/**\n",
              " * Generator function which is called between each async step of the upload\n",
              " * process.\n",
              " * @param {string} inputId Element ID of the input file picker element.\n",
              " * @param {string} outputId Element ID of the output display.\n",
              " * @return {!Iterable<!Object>} Iterable of next steps.\n",
              " */\n",
              "function* uploadFilesStep(inputId, outputId) {\n",
              "  const inputElement = document.getElementById(inputId);\n",
              "  inputElement.disabled = false;\n",
              "\n",
              "  const outputElement = document.getElementById(outputId);\n",
              "  outputElement.innerHTML = '';\n",
              "\n",
              "  const pickedPromise = new Promise((resolve) => {\n",
              "    inputElement.addEventListener('change', (e) => {\n",
              "      resolve(e.target.files);\n",
              "    });\n",
              "  });\n",
              "\n",
              "  const cancel = document.createElement('button');\n",
              "  inputElement.parentElement.appendChild(cancel);\n",
              "  cancel.textContent = 'Cancel upload';\n",
              "  const cancelPromise = new Promise((resolve) => {\n",
              "    cancel.onclick = () => {\n",
              "      resolve(null);\n",
              "    };\n",
              "  });\n",
              "\n",
              "  // Wait for the user to pick the files.\n",
              "  const files = yield {\n",
              "    promise: Promise.race([pickedPromise, cancelPromise]),\n",
              "    response: {\n",
              "      action: 'starting',\n",
              "    }\n",
              "  };\n",
              "\n",
              "  cancel.remove();\n",
              "\n",
              "  // Disable the input element since further picks are not allowed.\n",
              "  inputElement.disabled = true;\n",
              "\n",
              "  if (!files) {\n",
              "    return {\n",
              "      response: {\n",
              "        action: 'complete',\n",
              "      }\n",
              "    };\n",
              "  }\n",
              "\n",
              "  for (const file of files) {\n",
              "    const li = document.createElement('li');\n",
              "    li.append(span(file.name, {fontWeight: 'bold'}));\n",
              "    li.append(span(\n",
              "        `(${file.type || 'n/a'}) - ${file.size} bytes, ` +\n",
              "        `last modified: ${\n",
              "            file.lastModifiedDate ? file.lastModifiedDate.toLocaleDateString() :\n",
              "                                    'n/a'} - `));\n",
              "    const percent = span('0% done');\n",
              "    li.appendChild(percent);\n",
              "\n",
              "    outputElement.appendChild(li);\n",
              "\n",
              "    const fileDataPromise = new Promise((resolve) => {\n",
              "      const reader = new FileReader();\n",
              "      reader.onload = (e) => {\n",
              "        resolve(e.target.result);\n",
              "      };\n",
              "      reader.readAsArrayBuffer(file);\n",
              "    });\n",
              "    // Wait for the data to be ready.\n",
              "    let fileData = yield {\n",
              "      promise: fileDataPromise,\n",
              "      response: {\n",
              "        action: 'continue',\n",
              "      }\n",
              "    };\n",
              "\n",
              "    // Use a chunked sending to avoid message size limits. See b/62115660.\n",
              "    let position = 0;\n",
              "    do {\n",
              "      const length = Math.min(fileData.byteLength - position, MAX_PAYLOAD_SIZE);\n",
              "      const chunk = new Uint8Array(fileData, position, length);\n",
              "      position += length;\n",
              "\n",
              "      const base64 = btoa(String.fromCharCode.apply(null, chunk));\n",
              "      yield {\n",
              "        response: {\n",
              "          action: 'append',\n",
              "          file: file.name,\n",
              "          data: base64,\n",
              "        },\n",
              "      };\n",
              "\n",
              "      let percentDone = fileData.byteLength === 0 ?\n",
              "          100 :\n",
              "          Math.round((position / fileData.byteLength) * 100);\n",
              "      percent.textContent = `${percentDone}% done`;\n",
              "\n",
              "    } while (position < fileData.byteLength);\n",
              "  }\n",
              "\n",
              "  // All done.\n",
              "  yield {\n",
              "    response: {\n",
              "      action: 'complete',\n",
              "    }\n",
              "  };\n",
              "}\n",
              "\n",
              "scope.google = scope.google || {};\n",
              "scope.google.colab = scope.google.colab || {};\n",
              "scope.google.colab._files = {\n",
              "  _uploadFiles,\n",
              "  _uploadFilesContinue,\n",
              "};\n",
              "})(self);\n",
              "</script> "
            ]
          },
          "metadata": {}
        },
        {
          "output_type": "stream",
          "name": "stdout",
          "text": [
            "Saving kaggle.json to kaggle.json\n",
            "uploaded file \"kaggle.json\" with length 69 bytes\n"
          ]
        }
      ]
    },
    {
      "cell_type": "code",
      "source": [
        "!kaggle datasets download -d techsash/waste-classification-data"
      ],
      "metadata": {
        "colab": {
          "base_uri": "https://localhost:8080/"
        },
        "id": "MZFqgtthRw8V",
        "outputId": "1cef04bb-7020-495f-9730-eadeefdfb44c"
      },
      "execution_count": null,
      "outputs": [
        {
          "output_type": "stream",
          "name": "stdout",
          "text": [
            "Downloading waste-classification-data.zip to /content\n",
            "100% 426M/427M [00:18<00:00, 24.7MB/s]\n",
            "100% 427M/427M [00:18<00:00, 23.7MB/s]\n"
          ]
        }
      ]
    },
    {
      "cell_type": "code",
      "source": [
        "from zipfile import ZipFile\n",
        "name = \"/content/waste-classification-data.zip\"\n",
        "with ZipFile(name, 'r') as zip:\n",
        "  zip.extractall()\n",
        "  print('done')"
      ],
      "metadata": {
        "id": "QunZQjfdSYyv",
        "colab": {
          "base_uri": "https://localhost:8080/"
        },
        "outputId": "c1ffdeb3-6084-4a9e-d879-37556bf6faf9"
      },
      "execution_count": null,
      "outputs": [
        {
          "output_type": "stream",
          "name": "stdout",
          "text": [
            "done\n"
          ]
        }
      ]
    },
    {
      "cell_type": "code",
      "source": [
        "import os\n",
        "from tqdm._tqdm_notebook import tqdm_notebook as tqdm\n",
        "import cv2\n",
        "import numpy as np\n",
        "\n",
        "os.chdir('/content/DATASET/TRAIN/O')\n",
        "X = []\n",
        "y = []\n",
        "\n",
        "for i in tqdm(os.listdir()):\n",
        "  pic = cv2.imread(i)\n",
        "  pic = cv2.resize(pic, (32,32))\n",
        "  X.append(pic)\n",
        "  y.append(0)\n",
        "os.chdir('/content/DATASET/TRAIN/R')\n",
        "for i in tqdm(os.listdir()):\n",
        "  pic = cv2.imread(i)\n",
        "  pic = cv2.resize(pic, (32,32))\n",
        "  X.append(pic)\n",
        "  y.append(1)"
      ],
      "metadata": {
        "colab": {
          "base_uri": "https://localhost:8080/",
          "height": 133,
          "referenced_widgets": [
            "0aeecbb4bd8744a5af18ae01347a7dd2",
            "f4e0d4230dfc4b9e8f9dae1b921eaaad",
            "388ca2500d5d499198239b006842f287",
            "245fee2b0859456f90b585d9dafd30b7",
            "14df7ad5f2344b9781839edd4e81327c",
            "1ab6b42da8124d84b0ba452bf5aac2b9",
            "c14b8f43d51f4ecfb3048530d2e8f98a",
            "e895472e33024ed09b247660865988b9",
            "9d362d77d2c04042a299f21b47ba1ba4",
            "d65b4fe206d04ea68f7aef7e0c88d0a7",
            "e32550903d9b47cbb74a348d648bf923",
            "98424827e43c4ae39f9f2765989ae842",
            "951515ee1fc34624b05e898ef2da4819",
            "d4b405fe12da4e0ab7863bb40da8227a",
            "e0380b3c70f94dd5bb541ee8b62452fd",
            "46a36fad2ec44b828ef9669904819e50",
            "8684c1a367464fbfa89ec4a352fcf857",
            "ceb6a27a291f4780b9cc3ce6b74f2389",
            "17aa79a0951c4e189f1c3ebcce00cae6",
            "5904b3938b844f789c35131f0463244e",
            "e6d64ab4a51d4314844028098f3f9fc8",
            "97caed098a1848f7ab998438d0fa43e3"
          ]
        },
        "id": "jroexCGvfNqd",
        "outputId": "8888cbf9-6a8a-4561-e1db-37db9d06a21a"
      },
      "execution_count": null,
      "outputs": [
        {
          "output_type": "stream",
          "name": "stderr",
          "text": [
            "<ipython-input-5-bcd3fd3d4f1c>:2: TqdmDeprecationWarning: This function will be removed in tqdm==5.0.0\n",
            "Please use `tqdm.notebook.*` instead of `tqdm._tqdm_notebook.*`\n",
            "  from tqdm._tqdm_notebook import tqdm_notebook as tqdm\n"
          ]
        },
        {
          "output_type": "display_data",
          "data": {
            "text/plain": [
              "  0%|          | 0/12565 [00:00<?, ?it/s]"
            ],
            "application/vnd.jupyter.widget-view+json": {
              "version_major": 2,
              "version_minor": 0,
              "model_id": "0aeecbb4bd8744a5af18ae01347a7dd2"
            }
          },
          "metadata": {}
        },
        {
          "output_type": "display_data",
          "data": {
            "text/plain": [
              "  0%|          | 0/9999 [00:00<?, ?it/s]"
            ],
            "application/vnd.jupyter.widget-view+json": {
              "version_major": 2,
              "version_minor": 0,
              "model_id": "98424827e43c4ae39f9f2765989ae842"
            }
          },
          "metadata": {}
        }
      ]
    },
    {
      "cell_type": "markdown",
      "source": [
        "The train dataset consists of 22,564 number of images. 12,565 of organic waste images and 9,999 of recycle waste images. For Y variable, 0 means organic and 1 means recycle. "
      ],
      "metadata": {
        "id": "vsYKst7qdIlT"
      }
    },
    {
      "cell_type": "code",
      "source": [
        "os.chdir('/content/DATASET/TEST/O')\n",
        "X_t = []\n",
        "y_t = []\n",
        "\n",
        "for i in tqdm(os.listdir()):\n",
        "  pic = cv2.imread(i)\n",
        "  pic = cv2.resize(pic, (32,32))\n",
        "  X_t.append(pic)\n",
        "  y_t.append(0)\n",
        "os.chdir('/content/DATASET/TEST/R')\n",
        "for i in tqdm(os.listdir()):\n",
        "  pic = cv2.imread(i)\n",
        "  pic = cv2.resize(pic, (32,32))\n",
        "  X_t.append(pic)\n",
        "  y_t.append(0)"
      ],
      "metadata": {
        "colab": {
          "base_uri": "https://localhost:8080/",
          "height": 81,
          "referenced_widgets": [
            "bc26b6c459a44f349bb840658d03c646",
            "aaab11b5c60b4b89a293c86300dad344",
            "53815d4bdd704eeabf29909d671c3f97",
            "bf6955a4250041ae968c6d657e6b5bb8",
            "918d44e9aa594de687a531de7c02e5d5",
            "05674bf0974f471c9c43d6d753ff2298",
            "6918cbe9417a4a07aca395be1c3a1041",
            "454feeeed1644506a41791ac0bd9253d",
            "96fb7935ff7c42e68191d1ce12998476",
            "0995604b4c074ef1bee6e7642c21fca8",
            "50ac4d1d780d47068424b01585188137",
            "a630ffe2a3cd41bfbff84f7f4efd086a",
            "1562ddd79e2f4346821280e6d1cbe7c3",
            "4af1264c766d4007a10ba8a8b09524d4",
            "107aa1b7d6184e51924aa4e26ce20420",
            "4e9c9e734aae4a3cb58c6a3075b548c7",
            "d85e66065ef64f21b7ec794daf45fc2c",
            "e219a01624db4597b991501d31f7e4d8",
            "4df97e2614f34b7cbe9457e65399d5b2",
            "67e9bc46959146449478e4ac77a3ece5",
            "451842850817470784458910066cb646",
            "054ebe2fc164420bb2bdb8318c3ac599"
          ]
        },
        "id": "-k0hOmHCuYQT",
        "outputId": "34022447-4751-4038-c8db-b294277a48f3"
      },
      "execution_count": null,
      "outputs": [
        {
          "output_type": "display_data",
          "data": {
            "text/plain": [
              "  0%|          | 0/1401 [00:00<?, ?it/s]"
            ],
            "application/vnd.jupyter.widget-view+json": {
              "version_major": 2,
              "version_minor": 0,
              "model_id": "bc26b6c459a44f349bb840658d03c646"
            }
          },
          "metadata": {}
        },
        {
          "output_type": "display_data",
          "data": {
            "text/plain": [
              "  0%|          | 0/1112 [00:00<?, ?it/s]"
            ],
            "application/vnd.jupyter.widget-view+json": {
              "version_major": 2,
              "version_minor": 0,
              "model_id": "a630ffe2a3cd41bfbff84f7f4efd086a"
            }
          },
          "metadata": {}
        }
      ]
    },
    {
      "cell_type": "code",
      "source": [
        "X_train = np.array(X)\n",
        "y_train = np.array(y)\n",
        "X_test = np.array(X_t)\n",
        "y_test = np.array(y_t)"
      ],
      "metadata": {
        "id": "gKMn3ZtZr_0A"
      },
      "execution_count": null,
      "outputs": []
    },
    {
      "cell_type": "markdown",
      "source": [
        "The test dataset consists of 2,513 number of images. 1,401 of organic waste images and 1,112 of recycle waste images. "
      ],
      "metadata": {
        "id": "9Mna2bDXu4Vd"
      }
    },
    {
      "cell_type": "code",
      "source": [
        "print('Type of X value is ', type(X_train))\n",
        "print('Size of X_train is ', len(X_train))\n",
        "print('Size of X_test is ', len(X_test))\n",
        "\n",
        "values, counts = np.unique(y_train, return_counts=True)\n",
        "print('Number of organic vs. recycle in train data is', counts)"
      ],
      "metadata": {
        "colab": {
          "base_uri": "https://localhost:8080/"
        },
        "id": "LQk3qlTJotdg",
        "outputId": "2c4431ba-2a8e-463b-aa08-68260c82c7c1"
      },
      "execution_count": null,
      "outputs": [
        {
          "output_type": "stream",
          "name": "stdout",
          "text": [
            "Type of X value is  <class 'numpy.ndarray'>\n",
            "Size of X_train is  22564\n",
            "Size of X_test is  2513\n",
            "Number of organic vs. recycle in train data is [12565  9999]\n"
          ]
        }
      ]
    },
    {
      "cell_type": "code",
      "source": [
        "# Plotting data so visually see it. 32x32 looks unclear visually. Higher number will display the image clearer but will not necessary for the deep learning models. \n",
        "plt.imshow(X_train[10])\n",
        "name = 'Organic' if y_train[10]== 0 else 'recycle'\n",
        "plt.title(name)"
      ],
      "metadata": {
        "colab": {
          "base_uri": "https://localhost:8080/",
          "height": 298
        },
        "id": "aeWi-ygLo7wi",
        "outputId": "83f6a48d-dcb9-4c91-b7bd-6ba89603e265"
      },
      "execution_count": null,
      "outputs": [
        {
          "output_type": "execute_result",
          "data": {
            "text/plain": [
              "Text(0.5, 1.0, 'Organic')"
            ]
          },
          "metadata": {},
          "execution_count": 9
        },
        {
          "output_type": "display_data",
          "data": {
            "text/plain": [
              "<Figure size 432x288 with 1 Axes>"
            ],
            "image/png": "[encoded data removed]"
          },
          "metadata": {
            "needs_background": "light"
          }
        }
      ]
    },
    {
      "cell_type": "code",
      "source": [
        "plt.imshow(X_train[20000])\n",
        "name = 'Organic' if y_train[20000]== 0 else 'recycle'\n",
        "plt.title(name)"
      ],
      "metadata": {
        "colab": {
          "base_uri": "https://localhost:8080/",
          "height": 298
        },
        "id": "rRvUX9tip5rf",
        "outputId": "564eaa0f-b52d-4448-cd7a-da37cfaab675"
      },
      "execution_count": null,
      "outputs": [
        {
          "output_type": "execute_result",
          "data": {
            "text/plain": [
              "Text(0.5, 1.0, 'recycle')"
            ]
          },
          "metadata": {},
          "execution_count": 10
        },
        {
          "output_type": "display_data",
          "data": {
            "text/plain": [
              "<Figure size 432x288 with 1 Axes>"
            ],
            "image/png": "[encoded data removed]"
          },
          "metadata": {
            "needs_background": "light"
          }
        }
      ]
    },
    {
      "cell_type": "code",
      "source": [
        "# To see the shape of the dataset and find how to reshape them to use it for deep learning models. \n",
        "print('Train set size:', X_train.shape)\n",
        "print('Test set size:', y_train.shape)"
      ],
      "metadata": {
        "colab": {
          "base_uri": "https://localhost:8080/"
        },
        "id": "90P8llTAtUaz",
        "outputId": "3ca53947-83be-4fe2-d8bc-01e61ef1d3b1"
      },
      "execution_count": null,
      "outputs": [
        {
          "output_type": "stream",
          "name": "stdout",
          "text": [
            "Train set size: (22564, 32, 32, 3)\n",
            "Test set size: (22564,)\n"
          ]
        }
      ]
    },
    {
      "cell_type": "code",
      "source": [
        "input_dim = 3072  # 32*32*3\n",
        "output_dim = nb_classes = 2\n",
        "batch_size = 128\n",
        "nb_epoch = 20\n",
        "\n",
        "X_train = X_train.reshape(22564, input_dim)\n",
        "X_test = X_test.reshape(2513, input_dim)\n",
        "X_train = X_train.astype('float32')\n",
        "X_test = X_test.astype('float32')\n",
        "X_train /= 255\n",
        "X_test /= 255"
      ],
      "metadata": {
        "id": "dyIZEYJisney"
      },
      "execution_count": null,
      "outputs": []
    },
    {
      "cell_type": "code",
      "source": [
        "# Reshaping the y values as the target variable is binary, 0 or 1. \n",
        "\n",
        "y_train = np.asarray(y_train).astype('float32').reshape((-1,1))\n",
        "y_test = np.asarray(y_test).astype('float32').reshape((-1,1))"
      ],
      "metadata": {
        "id": "NjgC7Q0PvcWV"
      },
      "execution_count": null,
      "outputs": []
    },
    {
      "cell_type": "code",
      "source": [
        "# To check the size of the reshaped variables. \n",
        "\n",
        "print('Train set size:', X_train.shape)\n",
        "print('Test set size:', y_train.shape)"
      ],
      "metadata": {
        "colab": {
          "base_uri": "https://localhost:8080/"
        },
        "id": "tvFaba_kQS44",
        "outputId": "1b3af537-f040-4dbb-e4e8-cd2065f08fa0"
      },
      "execution_count": null,
      "outputs": [
        {
          "output_type": "stream",
          "name": "stdout",
          "text": [
            "Train set size: (22564, 3072)\n",
            "Test set size: (22564, 1)\n"
          ]
        }
      ]
    },
    {
      "cell_type": "code",
      "source": [
        "#1 Comparing models with different Number of Layers.\n",
        "\n",
        "from tensorflow.keras.models import Sequential \n",
        "from tensorflow.keras.layers import Dense\n",
        "\n",
        "model_11 = Sequential()\n",
        "# The first dense layer\n",
        "model_11.add(Dense(128, activation=\"relu\"))\n",
        "# The second dense layer\n",
        "model_11.add(Dense(64, activation=\"relu\"))\n",
        "# The last layer is the output layer\n",
        "model_11.add(Dense(1, activation=\"sigmoid\"))\n",
        "\n",
        "model_11.compile(optimizer='sgd', loss='binary_crossentropy',\n",
        "              metrics=['accuracy'])\n",
        "\n",
        "model_11.fit(X_train, y_train, batch_size=batch_size, epochs=20, verbose=1)"
      ],
      "metadata": {
        "id": "dYiZl9IZb9Uq",
        "colab": {
          "base_uri": "https://localhost:8080/"
        },
        "outputId": "3395402c-3363-4eeb-a501-a3f32fb0563b"
      },
      "execution_count": null,
      "outputs": [
        {
          "output_type": "stream",
          "name": "stdout",
          "text": [
            "Epoch 1/20\n",
            "177/177 [==============================] - 2s 8ms/step - loss: 0.5478 - accuracy: 0.7311\n",
            "Epoch 2/20\n",
            "177/177 [==============================] - 2s 8ms/step - loss: 0.4898 - accuracy: 0.7716\n",
            "Epoch 3/20\n",
            "177/177 [==============================] - 2s 9ms/step - loss: 0.4759 - accuracy: 0.7819\n",
            "Epoch 4/20\n",
            "177/177 [==============================] - 1s 8ms/step - loss: 0.4627 - accuracy: 0.7879\n",
            "Epoch 5/20\n",
            "177/177 [==============================] - 1s 8ms/step - loss: 0.4595 - accuracy: 0.7911\n",
            "Epoch 6/20\n",
            "177/177 [==============================] - 1s 8ms/step - loss: 0.4550 - accuracy: 0.7940\n",
            "Epoch 7/20\n",
            "177/177 [==============================] - 2s 10ms/step - loss: 0.4520 - accuracy: 0.7955\n",
            "Epoch 8/20\n",
            "177/177 [==============================] - 2s 14ms/step - loss: 0.4471 - accuracy: 0.8003\n",
            "Epoch 9/20\n",
            "177/177 [==============================] - 3s 16ms/step - loss: 0.4450 - accuracy: 0.8015\n",
            "Epoch 10/20\n",
            "177/177 [==============================] - 4s 20ms/step - loss: 0.4432 - accuracy: 0.7997\n",
            "Epoch 11/20\n",
            "177/177 [==============================] - 4s 22ms/step - loss: 0.4410 - accuracy: 0.8054\n",
            "Epoch 12/20\n",
            "177/177 [==============================] - 3s 18ms/step - loss: 0.4401 - accuracy: 0.8033\n",
            "Epoch 13/20\n",
            "177/177 [==============================] - 3s 16ms/step - loss: 0.4376 - accuracy: 0.8034\n",
            "Epoch 14/20\n",
            "177/177 [==============================] - 3s 17ms/step - loss: 0.4352 - accuracy: 0.8080\n",
            "Epoch 15/20\n",
            "177/177 [==============================] - 3s 15ms/step - loss: 0.4310 - accuracy: 0.8074\n",
            "Epoch 16/20\n",
            "177/177 [==============================] - 3s 15ms/step - loss: 0.4333 - accuracy: 0.8069\n",
            "Epoch 17/20\n",
            "177/177 [==============================] - 2s 9ms/step - loss: 0.4320 - accuracy: 0.8100\n",
            "Epoch 18/20\n",
            "177/177 [==============================] - 1s 8ms/step - loss: 0.4267 - accuracy: 0.8112\n",
            "Epoch 19/20\n",
            "177/177 [==============================] - 1s 8ms/step - loss: 0.4281 - accuracy: 0.8115\n",
            "Epoch 20/20\n",
            "177/177 [==============================] - 1s 8ms/step - loss: 0.4260 - accuracy: 0.8121\n"
          ]
        },
        {
          "output_type": "execute_result",
          "data": {
            "text/plain": [
              "<keras.callbacks.History at 0x7f9ee8af47f0>"
            ]
          },
          "metadata": {},
          "execution_count": 23
        }
      ]
    },
    {
      "cell_type": "code",
      "source": [
        "model_11.summary()"
      ],
      "metadata": {
        "colab": {
          "base_uri": "https://localhost:8080/"
        },
        "id": "1PBs7TbASWVY",
        "outputId": "c77e4e5b-ad65-4d82-d762-f234d3bfc121"
      },
      "execution_count": null,
      "outputs": [
        {
          "output_type": "stream",
          "name": "stdout",
          "text": [
            "Model: \"sequential\"\n",
            "_________________________________________________________________\n",
            " Layer (type)                Output Shape              Param #   \n",
            "=================================================================\n",
            " dense (Dense)               (None, 128)               393344    \n",
            "                                                                 \n",
            " dense_1 (Dense)             (None, 64)                8256      \n",
            "                                                                 \n",
            " dense_2 (Dense)             (None, 1)                 65        \n",
            "                                                                 \n",
            "=================================================================\n",
            "Total params: 401,665\n",
            "Trainable params: 401,665\n",
            "Non-trainable params: 0\n",
            "_________________________________________________________________\n"
          ]
        }
      ]
    },
    {
      "cell_type": "code",
      "source": [
        "score = model_11.evaluate(X_test, y_test, verbose=0)\n",
        "print('Test score:', score[0])\n",
        "print('Test accuracy:', score[1])"
      ],
      "metadata": {
        "colab": {
          "base_uri": "https://localhost:8080/"
        },
        "id": "bo5rguM1_qeB",
        "outputId": "208838b3-b5d1-4bb7-aaa5-fdcb599c29d2"
      },
      "execution_count": null,
      "outputs": [
        {
          "output_type": "stream",
          "name": "stdout",
          "text": [
            "Test score: 1.276551365852356\n",
            "Test accuracy: 0.4858734607696533\n"
          ]
        }
      ]
    },
    {
      "cell_type": "code",
      "source": [
        "model_12 = Sequential()\n",
        "# The first dense layer\n",
        "model_12.add(Dense(128, activation=\"relu\"))\n",
        "# The second dense layer\n",
        "model_12.add(Dense(64, activation=\"relu\"))\n",
        "# The third dense layer\n",
        "model_12.add(Dense(64, activation=\"relu\"))\n",
        "# The fourth dense layer\n",
        "model_12.add(Dense(64, activation=\"relu\"))\n",
        "# The last layer is the output layer\n",
        "model_12.add(Dense(1, activation=\"sigmoid\"))\n",
        "\n",
        "model_12.compile(optimizer='sgd', loss='binary_crossentropy',\n",
        "              metrics=['accuracy'])\n",
        "\n",
        "model_12.fit(X_train, y_train, batch_size=batch_size, epochs=20, verbose=1)\n",
        "\n",
        "score = model_12.evaluate(X_test, y_test, verbose=0)\n",
        "print('Test score:', score[0])\n",
        "print('Test accuracy:', score[1])"
      ],
      "metadata": {
        "id": "mBz_xv966UK1",
        "colab": {
          "base_uri": "https://localhost:8080/"
        },
        "outputId": "072daa42-7b3c-4608-aa32-ee5ba4c7cb03"
      },
      "execution_count": null,
      "outputs": [
        {
          "output_type": "stream",
          "name": "stdout",
          "text": [
            "Epoch 1/20\n",
            "177/177 [==============================] - 2s 9ms/step - loss: 0.5597 - accuracy: 0.7282\n",
            "Epoch 2/20\n",
            "177/177 [==============================] - 2s 9ms/step - loss: 0.4919 - accuracy: 0.7726\n",
            "Epoch 3/20\n",
            "177/177 [==============================] - 2s 9ms/step - loss: 0.4734 - accuracy: 0.7850\n",
            "Epoch 4/20\n",
            "177/177 [==============================] - 2s 9ms/step - loss: 0.4671 - accuracy: 0.7861\n",
            "Epoch 5/20\n",
            "177/177 [==============================] - 2s 9ms/step - loss: 0.4603 - accuracy: 0.7933\n",
            "Epoch 6/20\n",
            "177/177 [==============================] - 2s 9ms/step - loss: 0.4544 - accuracy: 0.7962\n",
            "Epoch 7/20\n",
            "177/177 [==============================] - 2s 9ms/step - loss: 0.4511 - accuracy: 0.7965\n",
            "Epoch 8/20\n",
            "177/177 [==============================] - 2s 9ms/step - loss: 0.4484 - accuracy: 0.8008\n",
            "Epoch 9/20\n",
            "177/177 [==============================] - 2s 9ms/step - loss: 0.4458 - accuracy: 0.8008\n",
            "Epoch 10/20\n",
            "177/177 [==============================] - 2s 9ms/step - loss: 0.4414 - accuracy: 0.8020\n",
            "Epoch 11/20\n",
            "177/177 [==============================] - 2s 9ms/step - loss: 0.4409 - accuracy: 0.8030\n",
            "Epoch 12/20\n",
            "177/177 [==============================] - 2s 9ms/step - loss: 0.4382 - accuracy: 0.8060\n",
            "Epoch 13/20\n",
            "177/177 [==============================] - 2s 9ms/step - loss: 0.4374 - accuracy: 0.8028\n",
            "Epoch 14/20\n",
            "177/177 [==============================] - 2s 9ms/step - loss: 0.4343 - accuracy: 0.8056\n",
            "Epoch 15/20\n",
            "177/177 [==============================] - 2s 9ms/step - loss: 0.4360 - accuracy: 0.8064\n",
            "Epoch 16/20\n",
            "177/177 [==============================] - 2s 9ms/step - loss: 0.4322 - accuracy: 0.8070\n",
            "Epoch 17/20\n",
            "177/177 [==============================] - 2s 9ms/step - loss: 0.4289 - accuracy: 0.8093\n",
            "Epoch 18/20\n",
            "177/177 [==============================] - 2s 9ms/step - loss: 0.4291 - accuracy: 0.8099\n",
            "Epoch 19/20\n",
            "177/177 [==============================] - 2s 9ms/step - loss: 0.4295 - accuracy: 0.8105\n",
            "Epoch 20/20\n",
            "177/177 [==============================] - 2s 9ms/step - loss: 0.4264 - accuracy: 0.8108\n",
            "Test score: 0.9492074847221375\n",
            "Test accuracy: 0.6235575079917908\n"
          ]
        }
      ]
    },
    {
      "cell_type": "code",
      "source": [
        "model_13 = Sequential()\n",
        "# The first dense layer\n",
        "model_13.add(Dense(128, activation=\"relu\"))\n",
        "# The second dense layer\n",
        "model_13.add(Dense(64, activation=\"relu\"))\n",
        "# The third dense layer\n",
        "model_13.add(Dense(64, activation=\"relu\"))\n",
        "# The fourth dense layer\n",
        "model_13.add(Dense(64, activation=\"relu\"))\n",
        "# The firth dense layer\n",
        "model_13.add(Dense(64, activation=\"relu\"))\n",
        "# The sixth dense layer\n",
        "model_13.add(Dense(64, activation=\"relu\"))\n",
        "# The last layer is the output layer\n",
        "model_13.add(Dense(1, activation=\"sigmoid\"))\n",
        "\n",
        "model_13.compile(optimizer='sgd', loss='binary_crossentropy',\n",
        "              metrics=['accuracy'])\n",
        "\n",
        "model_13.fit(X_train, y_train, batch_size=batch_size, epochs=20, verbose=1)\n",
        "\n",
        "score = model_13.evaluate(X_test, y_test, verbose=0)\n",
        "print('Test score:', score[0])\n",
        "print('Test accuracy:', score[1])"
      ],
      "metadata": {
        "colab": {
          "base_uri": "https://localhost:8080/"
        },
        "id": "imCkRmxsTleg",
        "outputId": "ca79c9a2-d411-43ad-b75e-0b87d5e11290"
      },
      "execution_count": null,
      "outputs": [
        {
          "output_type": "stream",
          "name": "stdout",
          "text": [
            "Epoch 1/20\n",
            "177/177 [==============================] - 2s 9ms/step - loss: 0.6162 - accuracy: 0.7056\n",
            "Epoch 2/20\n",
            "177/177 [==============================] - 2s 9ms/step - loss: 0.5130 - accuracy: 0.7577\n",
            "Epoch 3/20\n",
            "177/177 [==============================] - 3s 15ms/step - loss: 0.4800 - accuracy: 0.7802\n",
            "Epoch 4/20\n",
            "177/177 [==============================] - 2s 12ms/step - loss: 0.4715 - accuracy: 0.7848\n",
            "Epoch 5/20\n",
            "177/177 [==============================] - 2s 9ms/step - loss: 0.4633 - accuracy: 0.7895\n",
            "Epoch 6/20\n",
            "177/177 [==============================] - 2s 9ms/step - loss: 0.4549 - accuracy: 0.7956\n",
            "Epoch 7/20\n",
            "177/177 [==============================] - 2s 9ms/step - loss: 0.4540 - accuracy: 0.7937\n",
            "Epoch 8/20\n",
            "177/177 [==============================] - 2s 9ms/step - loss: 0.4518 - accuracy: 0.7962\n",
            "Epoch 9/20\n",
            "177/177 [==============================] - 2s 11ms/step - loss: 0.4474 - accuracy: 0.7976\n",
            "Epoch 10/20\n",
            "177/177 [==============================] - 2s 9ms/step - loss: 0.4472 - accuracy: 0.7991\n",
            "Epoch 11/20\n",
            "177/177 [==============================] - 2s 9ms/step - loss: 0.4432 - accuracy: 0.8015\n",
            "Epoch 12/20\n",
            "177/177 [==============================] - 2s 9ms/step - loss: 0.4429 - accuracy: 0.7995\n",
            "Epoch 13/20\n",
            "177/177 [==============================] - 2s 11ms/step - loss: 0.4412 - accuracy: 0.8025\n",
            "Epoch 14/20\n",
            "177/177 [==============================] - 2s 9ms/step - loss: 0.4372 - accuracy: 0.8050\n",
            "Epoch 15/20\n",
            "177/177 [==============================] - 2s 9ms/step - loss: 0.4361 - accuracy: 0.8061\n",
            "Epoch 16/20\n",
            "177/177 [==============================] - 2s 9ms/step - loss: 0.4353 - accuracy: 0.8068\n",
            "Epoch 17/20\n",
            "177/177 [==============================] - 2s 11ms/step - loss: 0.4335 - accuracy: 0.8063\n",
            "Epoch 18/20\n",
            "177/177 [==============================] - 3s 18ms/step - loss: 0.4311 - accuracy: 0.8073\n",
            "Epoch 19/20\n",
            "177/177 [==============================] - 2s 12ms/step - loss: 0.4309 - accuracy: 0.8101\n",
            "Epoch 20/20\n",
            "177/177 [==============================] - 2s 12ms/step - loss: 0.4304 - accuracy: 0.8080\n",
            "Test score: 0.6397395133972168\n",
            "Test accuracy: 0.7154794931411743\n"
          ]
        }
      ]
    },
    {
      "cell_type": "markdown",
      "source": [
        "Three deep learning models with the same paramters but different number of layers were built and tested. In terms of accuracy, more layers give higher accruacy. As such, 7 layers will be continue to be used for further research. "
      ],
      "metadata": {
        "id": "G4Xzy6zWZ_dA"
      }
    },
    {
      "cell_type": "code",
      "source": [
        "#2 Comparing models with different type of activiation functions.\n",
        "\n",
        "model_21 = Sequential()\n",
        "# The first dense layer\n",
        "model_21.add(Dense(128, activation=\"tanh\"))\n",
        "# The second dense layer\n",
        "model_21.add(Dense(64, activation=\"tanh\"))\n",
        "# The third dense layer\n",
        "model_21.add(Dense(64, activation=\"tanh\"))\n",
        "# The fourth dense layer\n",
        "model_21.add(Dense(64, activation=\"tanh\"))\n",
        "# The firth dense layer\n",
        "model_21.add(Dense(64, activation=\"tanh\"))\n",
        "# The sixth dense layer\n",
        "model_21.add(Dense(64, activation=\"tanh\"))\n",
        "# The last layer is the output layer\n",
        "model_21.add(Dense(1, activation=\"sigmoid\"))\n",
        "\n",
        "model_21.compile(optimizer='sgd', loss='binary_crossentropy',\n",
        "              metrics=['accuracy'])\n",
        "\n",
        "model_21.fit(X_train, y_train, batch_size=batch_size, epochs=20, verbose=1)\n",
        "\n",
        "score = model_21.evaluate(X_test, y_test, verbose=0)\n",
        "print('Test score:', score[0])\n",
        "print('Test accuracy:', score[1])"
      ],
      "metadata": {
        "colab": {
          "base_uri": "https://localhost:8080/"
        },
        "id": "BxC50p1IZlwr",
        "outputId": "88d794e1-df55-4f32-bb4a-c49264daf550"
      },
      "execution_count": null,
      "outputs": [
        {
          "output_type": "stream",
          "name": "stdout",
          "text": [
            "Epoch 1/20\n",
            "177/177 [==============================] - 3s 9ms/step - loss: 0.5547 - accuracy: 0.7237\n",
            "Epoch 2/20\n",
            "177/177 [==============================] - 2s 9ms/step - loss: 0.4854 - accuracy: 0.7714\n",
            "Epoch 3/20\n",
            "177/177 [==============================] - 2s 10ms/step - loss: 0.4684 - accuracy: 0.7823\n",
            "Epoch 4/20\n",
            "177/177 [==============================] - 2s 9ms/step - loss: 0.4622 - accuracy: 0.7875\n",
            "Epoch 5/20\n",
            "177/177 [==============================] - 2s 9ms/step - loss: 0.4536 - accuracy: 0.7937\n",
            "Epoch 6/20\n",
            "177/177 [==============================] - 2s 9ms/step - loss: 0.4475 - accuracy: 0.7990\n",
            "Epoch 7/20\n",
            "177/177 [==============================] - 2s 9ms/step - loss: 0.4462 - accuracy: 0.8004\n",
            "Epoch 8/20\n",
            "177/177 [==============================] - 2s 9ms/step - loss: 0.4428 - accuracy: 0.8015\n",
            "Epoch 9/20\n",
            "177/177 [==============================] - 2s 9ms/step - loss: 0.4387 - accuracy: 0.8029\n",
            "Epoch 10/20\n",
            "177/177 [==============================] - 2s 9ms/step - loss: 0.4374 - accuracy: 0.8025\n",
            "Epoch 11/20\n",
            "177/177 [==============================] - 2s 9ms/step - loss: 0.4357 - accuracy: 0.8022\n",
            "Epoch 12/20\n",
            "177/177 [==============================] - 2s 9ms/step - loss: 0.4347 - accuracy: 0.8050\n",
            "Epoch 13/20\n",
            "177/177 [==============================] - 2s 9ms/step - loss: 0.4310 - accuracy: 0.8078\n",
            "Epoch 14/20\n",
            "177/177 [==============================] - 2s 9ms/step - loss: 0.4315 - accuracy: 0.8070\n",
            "Epoch 15/20\n",
            "177/177 [==============================] - 2s 9ms/step - loss: 0.4271 - accuracy: 0.8081\n",
            "Epoch 16/20\n",
            "177/177 [==============================] - 2s 9ms/step - loss: 0.4286 - accuracy: 0.8106\n",
            "Epoch 17/20\n",
            "177/177 [==============================] - 2s 9ms/step - loss: 0.4261 - accuracy: 0.8096\n",
            "Epoch 18/20\n",
            "177/177 [==============================] - 2s 9ms/step - loss: 0.4254 - accuracy: 0.8098\n",
            "Epoch 19/20\n",
            "177/177 [==============================] - 2s 9ms/step - loss: 0.4220 - accuracy: 0.8140\n",
            "Epoch 20/20\n",
            "177/177 [==============================] - 2s 9ms/step - loss: 0.4215 - accuracy: 0.8133\n",
            "Test score: 0.4965531826019287\n",
            "Test accuracy: 0.7461201548576355\n"
          ]
        }
      ]
    },
    {
      "cell_type": "code",
      "source": [
        "model_22 = Sequential()\n",
        "# The first dense layer\n",
        "model_22.add(Dense(128, activation=\"linear\"))\n",
        "# The second dense layer\n",
        "model_22.add(Dense(64, activation=\"linear\"))\n",
        "# The third dense layer\n",
        "model_22.add(Dense(64, activation=\"linear\"))\n",
        "# The fourth dense layer\n",
        "model_22.add(Dense(64, activation=\"linear\"))\n",
        "# The firth dense layer\n",
        "model_22.add(Dense(64, activation=\"linear\"))\n",
        "# The sixth dense layer\n",
        "model_22.add(Dense(64, activation=\"linear\"))\n",
        "# The last layer is the output layer\n",
        "model_22.add(Dense(1, activation=\"sigmoid\"))\n",
        "\n",
        "model_22.compile(optimizer='sgd', loss='binary_crossentropy',\n",
        "              metrics=['accuracy'])\n",
        "\n",
        "model_22.fit(X_train, y_train, batch_size=batch_size, epochs=20, verbose=1)\n",
        "\n",
        "score = model_22.evaluate(X_test, y_test, verbose=0)\n",
        "print('Test score:', score[0])\n",
        "print('Test accuracy:', score[1])"
      ],
      "metadata": {
        "colab": {
          "base_uri": "https://localhost:8080/"
        },
        "id": "MA52scMgah2o",
        "outputId": "bc6a3d22-f47b-4c71-fdd2-937244fdbc51"
      },
      "execution_count": null,
      "outputs": [
        {
          "output_type": "stream",
          "name": "stdout",
          "text": [
            "Epoch 1/20\n",
            "177/177 [==============================] - 2s 9ms/step - loss: 0.5714 - accuracy: 0.7215\n",
            "Epoch 2/20\n",
            "177/177 [==============================] - 2s 9ms/step - loss: 0.4891 - accuracy: 0.7769\n",
            "Epoch 3/20\n",
            "177/177 [==============================] - 2s 9ms/step - loss: 0.4711 - accuracy: 0.7878\n",
            "Epoch 4/20\n",
            "177/177 [==============================] - 2s 9ms/step - loss: 0.4683 - accuracy: 0.7907\n",
            "Epoch 5/20\n",
            "177/177 [==============================] - 2s 9ms/step - loss: 0.4645 - accuracy: 0.7912\n",
            "Epoch 6/20\n",
            "177/177 [==============================] - 2s 11ms/step - loss: 0.4649 - accuracy: 0.7909\n",
            "Epoch 7/20\n",
            "177/177 [==============================] - 3s 14ms/step - loss: 0.4615 - accuracy: 0.7938\n",
            "Epoch 8/20\n",
            "177/177 [==============================] - 2s 9ms/step - loss: 0.4613 - accuracy: 0.7936\n",
            "Epoch 9/20\n",
            "177/177 [==============================] - 2s 9ms/step - loss: 0.4597 - accuracy: 0.7956\n",
            "Epoch 10/20\n",
            "177/177 [==============================] - 2s 9ms/step - loss: 0.4581 - accuracy: 0.7952\n",
            "Epoch 11/20\n",
            "177/177 [==============================] - 2s 9ms/step - loss: 0.4577 - accuracy: 0.7966\n",
            "Epoch 12/20\n",
            "177/177 [==============================] - 2s 9ms/step - loss: 0.4562 - accuracy: 0.7977\n",
            "Epoch 13/20\n",
            "177/177 [==============================] - 2s 9ms/step - loss: 0.4544 - accuracy: 0.7988\n",
            "Epoch 14/20\n",
            "177/177 [==============================] - 2s 9ms/step - loss: 0.4536 - accuracy: 0.8000\n",
            "Epoch 15/20\n",
            "177/177 [==============================] - 2s 9ms/step - loss: 0.4536 - accuracy: 0.7985\n",
            "Epoch 16/20\n",
            "177/177 [==============================] - 2s 9ms/step - loss: 0.4542 - accuracy: 0.7968\n",
            "Epoch 17/20\n",
            "177/177 [==============================] - 2s 9ms/step - loss: 0.4543 - accuracy: 0.7998\n",
            "Epoch 18/20\n",
            "177/177 [==============================] - 2s 9ms/step - loss: 0.4529 - accuracy: 0.7999\n",
            "Epoch 19/20\n",
            "177/177 [==============================] - 2s 9ms/step - loss: 0.4534 - accuracy: 0.7980\n",
            "Epoch 20/20\n",
            "177/177 [==============================] - 2s 9ms/step - loss: 0.4522 - accuracy: 0.7999\n",
            "Test score: 0.6228191256523132\n",
            "Test accuracy: 0.6597691774368286\n"
          ]
        }
      ]
    },
    {
      "cell_type": "markdown",
      "source": [
        "Three different activation functions were used for the second objective. ReLU (model_13), tanh (model_21), and Linear (model_22) were used for each models, and the same activation function was used for all layers except the last layer, which the last layer was Sigmoid for all models. tahn function model gives the best accuracy compared to two other models, and Linear model gives the lowest accuracy. Thus, for further models, the activation function of tanh will be used. "
      ],
      "metadata": {
        "id": "OvjxKAxbbghA"
      }
    },
    {
      "cell_type": "code",
      "source": [
        "#3 Comparing models with different batch size.\n",
        "\n",
        "model_31 = Sequential()\n",
        "# The first dense layer\n",
        "model_31.add(Dense(128, activation=\"tanh\"))\n",
        "# The second dense layer\n",
        "model_31.add(Dense(64, activation=\"tanh\"))\n",
        "# The third dense layer\n",
        "model_31.add(Dense(64, activation=\"tanh\"))\n",
        "# The fourth dense layer\n",
        "model_31.add(Dense(64, activation=\"tanh\"))\n",
        "# The firth dense layer\n",
        "model_31.add(Dense(64, activation=\"tanh\"))\n",
        "# The sixth dense layer\n",
        "model_31.add(Dense(64, activation=\"tanh\"))\n",
        "# The last layer is the output layer\n",
        "model_31.add(Dense(1, activation=\"sigmoid\"))\n",
        "\n",
        "model_31.compile(optimizer='sgd', loss='binary_crossentropy',\n",
        "              metrics=['accuracy'])\n",
        "\n",
        "model_31.fit(X_train, y_train, batch_size=20, epochs=20, verbose=1)\n",
        "\n",
        "score = model_31.evaluate(X_test, y_test, verbose=0)\n",
        "print('Test score:', score[0])\n",
        "print('Test accuracy:', score[1])"
      ],
      "metadata": {
        "colab": {
          "base_uri": "https://localhost:8080/"
        },
        "id": "GlpdNJm7bEfa",
        "outputId": "8e97d9ab-4954-4732-a5a2-e4925b92e4df"
      },
      "execution_count": null,
      "outputs": [
        {
          "output_type": "stream",
          "name": "stdout",
          "text": [
            "Epoch 1/20\n",
            "1129/1129 [==============================] - 6s 4ms/step - loss: 0.4959 - accuracy: 0.7628\n",
            "Epoch 2/20\n",
            "1129/1129 [==============================] - 5s 4ms/step - loss: 0.4565 - accuracy: 0.7923\n",
            "Epoch 3/20\n",
            "1129/1129 [==============================] - 5s 4ms/step - loss: 0.4453 - accuracy: 0.7987\n",
            "Epoch 4/20\n",
            "1129/1129 [==============================] - 5s 4ms/step - loss: 0.4389 - accuracy: 0.8027\n",
            "Epoch 5/20\n",
            "1129/1129 [==============================] - 5s 4ms/step - loss: 0.4349 - accuracy: 0.8040\n",
            "Epoch 6/20\n",
            "1129/1129 [==============================] - 5s 5ms/step - loss: 0.4305 - accuracy: 0.8084\n",
            "Epoch 7/20\n",
            "1129/1129 [==============================] - 6s 5ms/step - loss: 0.4274 - accuracy: 0.8083\n",
            "Epoch 8/20\n",
            "1129/1129 [==============================] - 6s 5ms/step - loss: 0.4212 - accuracy: 0.8101\n",
            "Epoch 9/20\n",
            "1129/1129 [==============================] - 8s 7ms/step - loss: 0.4196 - accuracy: 0.8127\n",
            "Epoch 10/20\n",
            "1129/1129 [==============================] - 9s 8ms/step - loss: 0.4132 - accuracy: 0.8131\n",
            "Epoch 11/20\n",
            "1129/1129 [==============================] - 5s 5ms/step - loss: 0.4122 - accuracy: 0.8163\n",
            "Epoch 12/20\n",
            "1129/1129 [==============================] - 5s 4ms/step - loss: 0.4071 - accuracy: 0.8174\n",
            "Epoch 13/20\n",
            "1129/1129 [==============================] - 5s 4ms/step - loss: 0.4022 - accuracy: 0.8191\n",
            "Epoch 14/20\n",
            "1129/1129 [==============================] - 6s 5ms/step - loss: 0.4001 - accuracy: 0.8200\n",
            "Epoch 15/20\n",
            "1129/1129 [==============================] - 6s 5ms/step - loss: 0.3938 - accuracy: 0.8249\n",
            "Epoch 16/20\n",
            "1129/1129 [==============================] - 6s 5ms/step - loss: 0.3903 - accuracy: 0.8250\n",
            "Epoch 17/20\n",
            "1129/1129 [==============================] - 6s 5ms/step - loss: 0.3861 - accuracy: 0.8253\n",
            "Epoch 18/20\n",
            "1129/1129 [==============================] - 5s 4ms/step - loss: 0.3822 - accuracy: 0.8289\n",
            "Epoch 19/20\n",
            "1129/1129 [==============================] - 5s 4ms/step - loss: 0.3765 - accuracy: 0.8321\n",
            "Epoch 20/20\n",
            "1129/1129 [==============================] - 5s 4ms/step - loss: 0.3710 - accuracy: 0.8354\n",
            "Test score: 0.5416080951690674\n",
            "Test accuracy: 0.752487063407898\n"
          ]
        }
      ]
    },
    {
      "cell_type": "code",
      "source": [
        "model_32 = Sequential()\n",
        "# The first dense layer\n",
        "model_32.add(Dense(128, activation=\"tanh\"))\n",
        "# The second dense layer\n",
        "model_32.add(Dense(64, activation=\"tanh\"))\n",
        "# The third dense layer\n",
        "model_32.add(Dense(64, activation=\"tanh\"))\n",
        "# The fourth dense layer\n",
        "model_32.add(Dense(64, activation=\"tanh\"))\n",
        "# The firth dense layer\n",
        "model_32.add(Dense(64, activation=\"tanh\"))\n",
        "# The sixth dense layer\n",
        "model_32.add(Dense(64, activation=\"tanh\"))\n",
        "# The last layer is the output layer\n",
        "model_32.add(Dense(1, activation=\"sigmoid\"))\n",
        "\n",
        "model_32.compile(optimizer='sgd', loss='binary_crossentropy',\n",
        "              metrics=['accuracy'])\n",
        "\n",
        "model_32.fit(X_train, y_train, batch_size=60000, epochs=20, verbose=1)\n",
        "\n",
        "score = model_32.evaluate(X_test, y_test, verbose=0)\n",
        "print('Test score:', score[0])\n",
        "print('Test accuracy:', score[1])"
      ],
      "metadata": {
        "colab": {
          "base_uri": "https://localhost:8080/"
        },
        "id": "__Yae03HdDo3",
        "outputId": "14ca3ea0-4332-4320-913f-f79d72cda20f"
      },
      "execution_count": null,
      "outputs": [
        {
          "output_type": "stream",
          "name": "stdout",
          "text": [
            "Epoch 1/20\n",
            "1/1 [==============================] - 3s 3s/step - loss: 0.7304 - accuracy: 0.4421\n",
            "Epoch 2/20\n",
            "1/1 [==============================] - 1s 1s/step - loss: 0.7073 - accuracy: 0.4558\n",
            "Epoch 3/20\n",
            "1/1 [==============================] - 1s 979ms/step - loss: 0.6964 - accuracy: 0.4930\n",
            "Epoch 4/20\n",
            "1/1 [==============================] - 1s 977ms/step - loss: 0.6867 - accuracy: 0.5435\n",
            "Epoch 5/20\n",
            "1/1 [==============================] - 1s 995ms/step - loss: 0.6780 - accuracy: 0.5885\n",
            "Epoch 6/20\n",
            "1/1 [==============================] - 1s 986ms/step - loss: 0.6702 - accuracy: 0.6228\n",
            "Epoch 7/20\n",
            "1/1 [==============================] - 1s 985ms/step - loss: 0.6630 - accuracy: 0.6469\n",
            "Epoch 8/20\n",
            "1/1 [==============================] - 1s 999ms/step - loss: 0.6564 - accuracy: 0.6639\n",
            "Epoch 9/20\n",
            "1/1 [==============================] - 1s 1s/step - loss: 0.6504 - accuracy: 0.6746\n",
            "Epoch 10/20\n",
            "1/1 [==============================] - 1s 1s/step - loss: 0.6448 - accuracy: 0.6841\n",
            "Epoch 11/20\n",
            "1/1 [==============================] - 1s 1s/step - loss: 0.6396 - accuracy: 0.6920\n",
            "Epoch 12/20\n",
            "1/1 [==============================] - 1s 1s/step - loss: 0.6347 - accuracy: 0.6972\n",
            "Epoch 13/20\n",
            "1/1 [==============================] - 1s 1s/step - loss: 0.6301 - accuracy: 0.7024\n",
            "Epoch 14/20\n",
            "1/1 [==============================] - 1s 1s/step - loss: 0.6257 - accuracy: 0.7069\n",
            "Epoch 15/20\n",
            "1/1 [==============================] - 1s 971ms/step - loss: 0.6213 - accuracy: 0.7102\n",
            "Epoch 16/20\n",
            "1/1 [==============================] - 1s 1s/step - loss: 0.6171 - accuracy: 0.7138\n",
            "Epoch 17/20\n",
            "1/1 [==============================] - 2s 2s/step - loss: 0.6130 - accuracy: 0.7173\n",
            "Epoch 18/20\n",
            "1/1 [==============================] - 1s 1s/step - loss: 0.6089 - accuracy: 0.7206\n",
            "Epoch 19/20\n",
            "1/1 [==============================] - 1s 1s/step - loss: 0.6050 - accuracy: 0.7227\n",
            "Epoch 20/20\n",
            "1/1 [==============================] - 1s 941ms/step - loss: 0.6010 - accuracy: 0.7246\n",
            "Test score: 0.5898499488830566\n",
            "Test accuracy: 0.697572648525238\n"
          ]
        }
      ]
    },
    {
      "cell_type": "markdown",
      "source": [
        "The third objective is to compare the models with different batch sizes: 20, 128, and 60,000. Smaller the batch size gets, the model gives the higher accuracy. Thus, the batch size of 20 will be used for the last objective. "
      ],
      "metadata": {
        "id": "4Cmi0Aeiit03"
      }
    },
    {
      "cell_type": "code",
      "source": [
        "#4 Comparing models with different learning rates.\n",
        "\n",
        "from tensorflow.keras.optimizers import Adam\n",
        "\n",
        "model_41 = Sequential()\n",
        "# The first dense layer\n",
        "model_41.add(Dense(128, activation=\"tanh\"))\n",
        "# The second dense layer\n",
        "model_41.add(Dense(64, activation=\"tanh\"))\n",
        "# The third dense layer\n",
        "model_41.add(Dense(64, activation=\"tanh\"))\n",
        "# The fourth dense layer\n",
        "model_41.add(Dense(64, activation=\"tanh\"))\n",
        "# The firth dense layer\n",
        "model_41.add(Dense(64, activation=\"tanh\"))\n",
        "# The sixth dense layer\n",
        "model_41.add(Dense(64, activation=\"tanh\"))\n",
        "# The last layer is the output layer\n",
        "model_41.add(Dense(1, activation=\"sigmoid\"))\n",
        "\n",
        "model_41.compile(Adam(learning_rate=0.01), loss='binary_crossentropy',\n",
        "              metrics=['accuracy'])\n",
        "\n",
        "model_41.fit(X_train, y_train, batch_size=20, epochs=20, verbose=1)\n",
        "\n",
        "score = model_41.evaluate(X_test, y_test, verbose=0)\n",
        "print('Test score:', score[0])\n",
        "print('Test accuracy:', score[1])"
      ],
      "metadata": {
        "colab": {
          "base_uri": "https://localhost:8080/"
        },
        "id": "etbVHjsWdWIG",
        "outputId": "2b4e48ae-5341-4a02-f096-9409d542196c"
      },
      "execution_count": null,
      "outputs": [
        {
          "output_type": "stream",
          "name": "stdout",
          "text": [
            "Epoch 1/20\n",
            "1129/1129 [==============================] - 7s 5ms/step - loss: 0.7044 - accuracy: 0.5291\n",
            "Epoch 2/20\n",
            "1129/1129 [==============================] - 6s 5ms/step - loss: 0.7032 - accuracy: 0.5245\n",
            "Epoch 3/20\n",
            "1129/1129 [==============================] - 6s 5ms/step - loss: 0.7019 - accuracy: 0.5258\n",
            "Epoch 4/20\n",
            "1129/1129 [==============================] - 6s 5ms/step - loss: 0.7010 - accuracy: 0.5274\n",
            "Epoch 5/20\n",
            "1129/1129 [==============================] - 6s 5ms/step - loss: 0.7015 - accuracy: 0.5330\n",
            "Epoch 6/20\n",
            "1129/1129 [==============================] - 6s 5ms/step - loss: 0.7001 - accuracy: 0.5275\n",
            "Epoch 7/20\n",
            "1129/1129 [==============================] - 6s 5ms/step - loss: 0.7006 - accuracy: 0.5312\n",
            "Epoch 8/20\n",
            "1129/1129 [==============================] - 6s 5ms/step - loss: 0.7031 - accuracy: 0.5212\n",
            "Epoch 9/20\n",
            "1129/1129 [==============================] - 6s 5ms/step - loss: 0.6976 - accuracy: 0.5376\n",
            "Epoch 10/20\n",
            "1129/1129 [==============================] - 6s 5ms/step - loss: 0.7002 - accuracy: 0.5302\n",
            "Epoch 11/20\n",
            "1129/1129 [==============================] - 6s 5ms/step - loss: 0.7039 - accuracy: 0.5244\n",
            "Epoch 12/20\n",
            "1129/1129 [==============================] - 6s 5ms/step - loss: 0.7044 - accuracy: 0.5195\n",
            "Epoch 13/20\n",
            "1129/1129 [==============================] - 6s 5ms/step - loss: 0.7021 - accuracy: 0.5271\n",
            "Epoch 14/20\n",
            "1129/1129 [==============================] - 6s 5ms/step - loss: 0.7006 - accuracy: 0.5257\n",
            "Epoch 15/20\n",
            "1129/1129 [==============================] - 6s 5ms/step - loss: 0.7013 - accuracy: 0.5281\n",
            "Epoch 16/20\n",
            "1129/1129 [==============================] - 6s 5ms/step - loss: 0.7016 - accuracy: 0.5309\n",
            "Epoch 17/20\n",
            "1129/1129 [==============================] - 6s 5ms/step - loss: 0.7030 - accuracy: 0.5230\n",
            "Epoch 18/20\n",
            "1129/1129 [==============================] - 6s 5ms/step - loss: 0.7042 - accuracy: 0.5211\n",
            "Epoch 19/20\n",
            "1129/1129 [==============================] - 6s 5ms/step - loss: 0.6995 - accuracy: 0.5265\n",
            "Epoch 20/20\n",
            "1129/1129 [==============================] - 6s 5ms/step - loss: 0.7002 - accuracy: 0.5292\n",
            "Test score: 0.47401776909828186\n",
            "Test accuracy: 1.0\n"
          ]
        }
      ]
    },
    {
      "cell_type": "code",
      "source": [
        "model_42 = Sequential()\n",
        "# The first dense layer\n",
        "model_42.add(Dense(128, activation=\"tanh\"))\n",
        "# The second dense layer\n",
        "model_42.add(Dense(64, activation=\"tanh\"))\n",
        "# The third dense layer\n",
        "model_42.add(Dense(64, activation=\"tanh\"))\n",
        "# The fourth dense layer\n",
        "model_42.add(Dense(64, activation=\"tanh\"))\n",
        "# The firth dense layer\n",
        "model_42.add(Dense(64, activation=\"tanh\"))\n",
        "# The sixth dense layer\n",
        "model_42.add(Dense(64, activation=\"tanh\"))\n",
        "# The last layer is the output layer\n",
        "model_42.add(Dense(1, activation=\"sigmoid\"))\n",
        "\n",
        "model_42.compile(Adam(learning_rate=0.001), loss='binary_crossentropy',\n",
        "              metrics=['accuracy'])\n",
        "\n",
        "model_42.fit(X_train, y_train, batch_size=20, epochs=20, verbose=1)\n",
        "\n",
        "score = model_42.evaluate(X_test, y_test, verbose=0)\n",
        "print('Test score:', score[0])\n",
        "print('Test accuracy:', score[1])"
      ],
      "metadata": {
        "colab": {
          "base_uri": "https://localhost:8080/"
        },
        "id": "CeWNALs3eAng",
        "outputId": "8ff65c1c-056a-4a0a-daee-ca4426f11a33"
      },
      "execution_count": null,
      "outputs": [
        {
          "output_type": "stream",
          "name": "stdout",
          "text": [
            "Epoch 1/20\n",
            "1129/1129 [==============================] - 6s 5ms/step - loss: 0.5362 - accuracy: 0.7542\n",
            "Epoch 2/20\n",
            "1129/1129 [==============================] - 6s 5ms/step - loss: 0.5104 - accuracy: 0.7757\n",
            "Epoch 3/20\n",
            "1129/1129 [==============================] - 6s 6ms/step - loss: 0.5093 - accuracy: 0.7780\n",
            "Epoch 4/20\n",
            "1129/1129 [==============================] - 6s 5ms/step - loss: 0.4993 - accuracy: 0.7703\n",
            "Epoch 5/20\n",
            "1129/1129 [==============================] - 6s 5ms/step - loss: 0.5221 - accuracy: 0.7668\n",
            "Epoch 6/20\n",
            "1129/1129 [==============================] - 6s 5ms/step - loss: 0.5442 - accuracy: 0.7491\n",
            "Epoch 7/20\n",
            "1129/1129 [==============================] - 6s 5ms/step - loss: 0.5423 - accuracy: 0.7350\n",
            "Epoch 8/20\n",
            "1129/1129 [==============================] - 6s 5ms/step - loss: 0.5023 - accuracy: 0.7656\n",
            "Epoch 9/20\n",
            "1129/1129 [==============================] - 6s 6ms/step - loss: 0.6208 - accuracy: 0.6364\n",
            "Epoch 10/20\n",
            "1129/1129 [==============================] - 6s 5ms/step - loss: 0.5752 - accuracy: 0.6945\n",
            "Epoch 11/20\n",
            "1129/1129 [==============================] - 9s 8ms/step - loss: 0.6459 - accuracy: 0.6187\n",
            "Epoch 12/20\n",
            "1129/1129 [==============================] - 9s 8ms/step - loss: 0.6141 - accuracy: 0.6474\n",
            "Epoch 13/20\n",
            "1129/1129 [==============================] - 6s 5ms/step - loss: 0.6829 - accuracy: 0.5673\n",
            "Epoch 14/20\n",
            "1129/1129 [==============================] - 6s 5ms/step - loss: 0.5911 - accuracy: 0.6739\n",
            "Epoch 15/20\n",
            "1129/1129 [==============================] - 6s 5ms/step - loss: 0.6334 - accuracy: 0.6043\n",
            "Epoch 16/20\n",
            "1129/1129 [==============================] - 6s 5ms/step - loss: 0.5866 - accuracy: 0.6660\n",
            "Epoch 17/20\n",
            "1129/1129 [==============================] - 6s 5ms/step - loss: 0.5626 - accuracy: 0.6984\n",
            "Epoch 18/20\n",
            "1129/1129 [==============================] - 6s 5ms/step - loss: 0.5553 - accuracy: 0.7223\n",
            "Epoch 19/20\n",
            "1129/1129 [==============================] - 6s 5ms/step - loss: 0.6226 - accuracy: 0.6487\n",
            "Epoch 20/20\n",
            "1129/1129 [==============================] - 6s 5ms/step - loss: 0.5367 - accuracy: 0.7675\n",
            "Test score: 0.6679846048355103\n",
            "Test accuracy: 0.9864703416824341\n"
          ]
        }
      ]
    },
    {
      "cell_type": "markdown",
      "source": [
        "For the last objective, learning rate will be differentiated to find the best learning rate for this deep learning model. 0.001 gives very favorable accuracy score. 0.01 gives the accuracy of 1 which seems to be overfitting of the model. In conclusion, 0.001 of learning rate gives the best accuracy among default, 0.01 and 0.001."
      ],
      "metadata": {
        "id": "RjbWSf6Soowx"
      }
    },
    {
      "cell_type": "markdown",
      "source": [
        "# The Best Model To Recognize the Image of Waste: Tanh, 7 layers, 20 batch, and learning rate of 0.001."
      ],
      "metadata": {
        "id": "zhkTGuowqSQO"
      }
    },
    {
      "cell_type": "code",
      "source": [],
      "metadata": {
        "id": "v04dY22uqm69"
      },
      "execution_count": null,
      "outputs": []
    }
  ]
}